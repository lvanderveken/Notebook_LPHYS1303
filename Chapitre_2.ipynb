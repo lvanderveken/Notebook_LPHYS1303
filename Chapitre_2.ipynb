{
 "cells": [
  {
   "cell_type": "code",
   "execution_count": 1,
   "metadata": {},
   "outputs": [],
   "source": [
    "%matplotlib widget\n",
    "import numpy as np\n",
    "import matplotlib.pyplot as plt"
   ]
  },
  {
   "cell_type": "markdown",
   "metadata": {},
   "source": [
    "# Exercice 9: Couche limite\n",
    "\n",
    "Le système suivant illustre la notion de couche limite :\n",
    "    \n",
    "${\\large \\begin{equation*}\n",
    "\\epsilon \\frac{d^{2} y}{dx^{2}}-x^{2}\\frac{dy}{dx}-y=0, \\, 0<x<1, \\, \\epsilon =10^{-2},\n",
    "\\end{equation*}}$\n",
    "\n",
    "avec les conditions frontières: $y(0)=y(1)=1$.\n",
    "\n",
    "Condition d'unicité: $N>49$\n",
    "\n",
    "Système linéaire à résoudre:\n",
    "\n",
    "$\n",
    "A=\\begin{pmatrix}\n",
    "a_{1} & c_{1} & 0 &\\cdots & \\cdots &  0\\\\\n",
    "b_{2} & a_{2} & c_{2} & 0 & \\cdots & 0  \\\\\n",
    "0 & \\ddots & \\ddots & \\ddots &  \\ddots &\\vdots  \\\\\n",
    "\\vdots & \\ddots  & \\ddots & \\ddots & \\ddots & 0  \\\\\n",
    "0 & \\cdots  & 0& b_{N-1} & a_{N-1} & c_{N-1}  \\\\\n",
    "0 & \\cdots  & 0 & 0 & b_{N} & a_{N} \n",
    "\\end{pmatrix}\n",
    "\\begin{pmatrix}\n",
    "y_{1}\\\\\n",
    "y_{2}\\\\\n",
    "\\vdots\\\\\n",
    "y_{N-1}\\\\\n",
    "y_{N}\\\\\n",
    "\\end{pmatrix}\n",
    "=\\begin{pmatrix}\n",
    "-b_{1}\\\\\n",
    "0\\\\\n",
    "\\vdots\\\\\n",
    "0\\\\\n",
    "-c_{N}\\\\\n",
    "\\end{pmatrix}\n",
    "$\n",
    "\n",
    "avec\n",
    "\n",
    "$\n",
    "\\left\\{\n",
    "                \\begin{array}{ll}\n",
    "                  a_{i}=-2-\\frac{h^2}{\\epsilon}\\\\\n",
    "                  b_{i}=1+\\frac{hx_{i}^{2}}{2\\epsilon}\\\\\n",
    "                  c_{i}=1-\\frac{hx_{i}^{2}}{2\\epsilon}\n",
    "                \\end{array}\n",
    "              \\right.\n",
    "$\n",
    "\n",
    "\n",
    "\n",
    "Conditionnement de la matrice:"
   ]
  },
  {
   "cell_type": "code",
   "execution_count": 2,
   "metadata": {},
   "outputs": [
    {
     "name": "stdout",
     "output_type": "stream",
     "text": [
      "Conditionnement de la matrice 1.000\n"
     ]
    }
   ],
   "source": [
    "N=1\n",
    "eps=10**(-2)\n",
    "x=np.linspace(0.,1.,N+2)\n",
    "y=np.zeros(N+2)\n",
    "h=x[1]-x[0]\n",
    "ybound=[1,1]\n",
    "xbis=x[1:-1]\n",
    "a=-2.-(h**2)/eps*np.ones(N)\n",
    "b=1.+h*(xbis**2)/2./eps\n",
    "c=1.-h*(xbis**2)/2./eps\n",
    "A=np.diagflat(b[1:],-1)+np.diagflat(c[:-1],1)+np.diagflat(a)\n",
    "#print(A)\n",
    "w,v=np.linalg.eig(A.T@A)\n",
    "cond=np.sqrt(np.max(np.abs(w))/np.min(np.abs(w)))\n",
    "print('Conditionnement de la matrice %.3f'%(cond))"
   ]
  },
  {
   "cell_type": "code",
   "execution_count": 3,
   "metadata": {},
   "outputs": [],
   "source": [
    "def tridiag(a,b,c,f):\n",
    "    N=f.size\n",
    "    x=np.zeros(N)\n",
    "    cstar=np.zeros(N)\n",
    "    astar=a[0]\n",
    "    x[0]=f[0]/astar\n",
    "    for k in range(1,N):\n",
    "        cstar[k-1]=c[k-1]/astar\n",
    "        astar=a[k]-b[k]*cstar[k-1]\n",
    "        x[k]=(f[k]-b[k]*x[k-1])/astar\n",
    "    for k in range(N-2,-1,-1):\n",
    "        x[k]-=cstar[k]*x[k+1]\n",
    "    return(x)\n",
    "\n",
    "\n",
    "def c_lim(N):\n",
    "    eps=10**(-2)\n",
    "    x=np.linspace(0.,1.,N+2)\n",
    "    y=np.zeros(N+2)\n",
    "    h=x[1]-x[0]\n",
    "    ybound=[1,1]\n",
    "    xbis=x[1:-1]\n",
    "    a=-2.-(h**2)/eps*np.ones(N)\n",
    "    b=1.+h*(xbis**2)/2./eps\n",
    "    c=1.-h*(xbis**2)/2./eps\n",
    "    z=np.zeros(N)\n",
    "    z[0]=-b[0]*ybound[0]\n",
    "    z[-1]=-c[-1]*ybound[1]\n",
    "    y[1:-1]=tridiag(a,b,c,z)\n",
    "    y[0]=ybound[0]\n",
    "    y[-1]=ybound[1]\n",
    "    return(x,y,cond)\n"
   ]
  },
  {
   "cell_type": "code",
   "execution_count": 4,
   "metadata": {},
   "outputs": [],
   "source": [
    "x10,y10,cond10=c_lim(10)\n",
    "x20,y20,cond20=c_lim(20)\n",
    "x50,y50,cond50=c_lim(50)\n",
    "x120,y120,cond120=c_lim(120)\n",
    "\n"
   ]
  },
  {
   "cell_type": "code",
   "execution_count": 5,
   "metadata": {},
   "outputs": [
    {
     "data": {
      "application/vnd.jupyter.widget-view+json": {
       "model_id": "ff2b18627b2c4533a78e522b4e8258ef",
       "version_major": 2,
       "version_minor": 0
      },
      "text/plain": [
       "Canvas(toolbar=Toolbar(toolitems=[('Home', 'Reset original view', 'home', 'home'), ('Back', 'Back to previous …"
      ]
     },
     "metadata": {},
     "output_type": "display_data"
    }
   ],
   "source": [
    "fig,ax=plt.subplots(figsize=(5,5))\n",
    "plt.plot(x10,y10,label='N=10',linestyle='--',marker='o',ms=7)\n",
    "plt.plot(x20,y20,label='N=20',linestyle='--',marker='v',ms=7)\n",
    "plt.plot(x50,y50,label='N=50',linestyle='--',marker='D',ms=7)\n",
    "plt.plot(x120,y120,label='N=120')\n",
    "plt.legend(loc='best',fontsize='small')\n",
    "plt.xlabel('x')\n",
    "plt.ylabel('y')\n",
    "plt.show()\n"
   ]
  },
  {
   "cell_type": "markdown",
   "metadata": {},
   "source": [
    "# Exercice 11: équation de Bratu\n",
    "\n",
    "Résoudre l'équation de Bratu ${\\large y'' = −e^y}$ , ${\\large 0 < x < 1}$, avec\n",
    "${\\large y (0) = y (1) = 0}$. Utiliser comme premier essai ${\\large y_{0}(x) = x − x^{2}}$ ;\n",
    "recommencez et utilisez ${\\large y_{0}(x) = 16(x − x^{2})}$. \n",
    "\n",
    "\n",
    ">**Newton-Raphson**\n",
    ">\n",
    ">Système d'équations non linéaires\n",
    ">\n",
    ">\n",
    ">${\\large \\mathbf{F}(\\mathbf{y})=\\mathbf{0}}$\n",
    ">\n",
    ">On a besoin de deux choses pour appliquer la méthode: ${\\large \\mathbf{y_{0}}}$ première estimation de la solution et ${\\large J}$ le jacobien de ${\\large \\mathbf{F}(\\mathbf{y})}$\n",
    ">\n",
    ">Le schéma suivant doit converger vers la solution si le système est suffisamment régulier:\n",
    ">\n",
    ">${\\large \\mathbf{y}_{k+1} = \\mathbf{y}_{k} - J_{k}^{-1} \\mathbf{F}_{k} \\, \\Rightarrow \\, J_{k}\\mathbf{y}_{k+1}  =J_{k}\\mathbf{y}_{k}-\\mathbf{F}_{k} \\quad ,k=0,1,2,...}$\n",
    "\n",
    "\n",
    "\n"
   ]
  },
  {
   "cell_type": "code",
   "execution_count": 6,
   "metadata": {},
   "outputs": [],
   "source": [
    "def Jac(y,h):\n",
    "    N=y.size\n",
    "    J=np.zeros((N,N))\n",
    "    J[0,0]=-2.+(h**2)*np.exp(y[0])\n",
    "    J[-1,-1]=-2.+(h**2)*np.exp(y[-1])\n",
    "    J[0,1]=1.\n",
    "    J[-1,-2]=1.\n",
    "    for k in range(1,N-1):\n",
    "        J[k,k]=-2.+(h**2)*np.exp(y[k])\n",
    "        J[k,k-1]=1.\n",
    "        J[k,k+1]=1.\n",
    "    return(J)\n",
    "\n",
    "def Fk(z,h):\n",
    "    N=z.size\n",
    "    F=np.zeros(N)\n",
    "    F[0]=z[1]-2.*z[0]+(h**2)*np.exp(z[0])          # CF z_firstpoint=0\n",
    "    F[-1]=-2.*z[-1]+z[-2]+(h**2)*np.exp(z[-1])# CF z_lastpoint=0\n",
    "    for k in range(1,N-1):\n",
    "        F[k]=z[k+1]-2.*z[k]+z[k-1]+(h**2)*np.exp(z[k])\n",
    "    return(F)\n",
    "\n",
    "\n",
    "\n",
    "def bratu(N,N_it,x,Y0):\n",
    "    h=x[1]-x[0]\n",
    "    Y=np.zeros((N,N_it))\n",
    "    Y[:,0]=Y0\n",
    "    for k in range(1,N_it):\n",
    "        diag_J=-2.+(h**2)*np.exp(Y[:,k-1])\n",
    "        rhs=np.dot(Jac(Y[:,k-1],h),Y[:,k-1])-Fk(Y[:,k-1],h)\n",
    "        Y[:,k]=tridiag(diag_J,np.ones(N),np.ones(N),rhs)\n",
    "    return(np.append(np.insert(Y[:,-1],0,0.),0.))\n",
    "\n",
    "\n"
   ]
  },
  {
   "cell_type": "code",
   "execution_count": 9,
   "metadata": {},
   "outputs": [],
   "source": [
    "#paramètres d'intégration\n",
    "N=10\n",
    "N_int=5\n",
    "x=np.linspace(0.,1,N+2)\n",
    "\n",
    "#Solutions analytiques\n",
    "c1=0.379\n",
    "Y_anal1=-2.*np.log(np.cosh(c1*(1.-2.*np.linspace(0,1,101)))/np.cosh(c1))\n",
    "c2=2.73;\n",
    "Y_anal2=-2.*np.log(np.cosh(c2*(1.-2.*np.linspace(0,1,101)))/np.cosh(c2))\n",
    "\n",
    "#Intégration numérique\n",
    "Y1=bratu(N,N_int,x,Y0=(x[1:-1]-x[1:-1]**2))\n",
    "Y2=bratu(N,N_int,x,Y0=16.*(x[1:-1]-x[1:-1]**2))"
   ]
  },
  {
   "cell_type": "code",
   "execution_count": 11,
   "metadata": {},
   "outputs": [
    {
     "data": {
      "application/vnd.jupyter.widget-view+json": {
       "model_id": "9848d181924a471ca47472ab6f7926c4",
       "version_major": 2,
       "version_minor": 0
      },
      "text/plain": [
       "Canvas(toolbar=Toolbar(toolitems=[('Home', 'Reset original view', 'home', 'home'), ('Back', 'Back to previous …"
      ]
     },
     "metadata": {},
     "output_type": "display_data"
    }
   ],
   "source": [
    "fig,ax=plt.subplots(figsize=(7,7))\n",
    "ax.plot(x,Y1,'^b',ms=7,label='$y_0=(x-x^2)$')\n",
    "ax.plot(x,Y2,'^r',ms=7,label='$y_0=16(x-x^2)$')\n",
    "ax.plot(np.linspace(0,1,101),Y_anal1,'b',label='$c=0.379$')\n",
    "ax.plot(np.linspace(0,1,101),Y_anal2,'r',label='$c=2.73$')\n",
    "ax.legend(loc='best',fontsize='small')\n",
    "ax.set_xlabel('x')\n",
    "ax.set_ylabel('y')\n",
    "plt.show()"
   ]
  }
 ],
 "metadata": {
  "kernelspec": {
   "display_name": "Python 3",
   "language": "python",
   "name": "python3"
  },
  "language_info": {
   "codemirror_mode": {
    "name": "ipython",
    "version": 3
   },
   "file_extension": ".py",
   "mimetype": "text/x-python",
   "name": "python",
   "nbconvert_exporter": "python",
   "pygments_lexer": "ipython3",
   "version": "3.8.5"
  }
 },
 "nbformat": 4,
 "nbformat_minor": 4
}
