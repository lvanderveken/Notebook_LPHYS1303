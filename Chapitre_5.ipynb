{
 "cells": [
  {
   "cell_type": "code",
   "execution_count": 1,
   "metadata": {},
   "outputs": [],
   "source": [
    "%matplotlib widget\n",
    "import numpy as np\n",
    "import matplotlib.pyplot as plt"
   ]
  },
  {
   "cell_type": "markdown",
   "metadata": {},
   "source": [
    "# Equation d'onde\n",
    "\n",
    "${\\large u_{tt}=c^2 u_{xx} \\, \\mbox{  pour  } \\begin{cases} 0 <x<L ,\\\\ 0 <t \\end{cases} }$\n",
    "\n",
    "CI: ${\\large u(x,0)=f(x)=e^{-2x^{2}} }$ et ${\\large u_{t}(x,0)= 0 }$\n",
    "\n",
    "CF: ${\\large u(-L,t)=0 }$ et ${\\large u(L,0)= 0 }$\n",
    "\n"
   ]
  },
  {
   "cell_type": "code",
   "execution_count": 2,
   "metadata": {},
   "outputs": [],
   "source": [
    "def wave(U0,c,x,tmax,lmb):\n",
    "    h=np.abs(x[1]-x[0])\n",
    "    k=lmb*h/(abs(c))\n",
    "    M=int(np.round(tmax/k))+1\n",
    "    t=np.linspace(0.,tmax,M)\n",
    "    k=t[1]-t[0]\n",
    "    lmb=c*k/h\n",
    "    A=np.diagflat(lmb**2*np.ones(N-1),-1)+np.diagflat(2*(1-lmb**2)*np.ones(N))+np.diagflat(lmb**2*np.ones(N-1),1)\n",
    "    U=np.zeros((np.shape(x)[0],np.shape(t)[0]))\n",
    "    U[:,0]=U0\n",
    "    U[:,1]=U0\n",
    "    for i in range(1,M-1):\n",
    "        U[1:-1,i+1]=A@U[1:-1,i]-U[1:-1,i-1]\n",
    "        U[0,i+1]=0\n",
    "        U[-1,i+1]=0\n",
    "    return(U,x,t,lmb)\n",
    "\n",
    "def f(y,a):\n",
    "    k=y.size\n",
    "    h=np.zeros(k)\n",
    "    for p in range(k):\n",
    "        if y[p]>=0. and y[p]<=a:\n",
    "            h[p]=0.5*(1.-np.cos(2.*np.pi/a*y[p]))\n",
    "    return(h)\n",
    "\n",
    "def square_Init(x,x1,x2,yy):\n",
    "    y=np.zeros(np.size(x))\n",
    "    for i in range(np.size(x)):\n",
    "        if x[i]>x1 and x[i]<x2:\n",
    "            y[i]=yy\n",
    "    return(y)\n"
   ]
  },
  {
   "cell_type": "code",
   "execution_count": 3,
   "metadata": {},
   "outputs": [],
   "source": [
    "tmax=1.2\n",
    "c=1\n",
    "N=300\n",
    "L=1\n",
    "x=np.linspace(-L,L,N+2)\n",
    "a=0.1\n",
    "lmb=1.\n",
    "\n",
    "#Conditions initiales\n",
    "U0_cos=f(x,a)\n",
    "U0_carre=square_Init(x,0,a,1)\n",
    "\n",
    "U_cos=wave(U0_cos,c,x,tmax,lmb)\n",
    "U_carre=wave(U0_carre,c,x,tmax,lmb)"
   ]
  },
  {
   "cell_type": "code",
   "execution_count": 18,
   "metadata": {},
   "outputs": [],
   "source": [
    "t=U_cos[2]\n",
    "M=t.shape[0]\n",
    "xsol=np.linspace(-L,L,1001)\n",
    "Sol_cos=np.zeros((1001,M))\n",
    "Sol_carre=np.zeros((1001,M))\n",
    "\n",
    "for i in range(M):\n",
    "    if t[i]<(L-a)/c:\n",
    "        Sol_cos[:,i]=0.5*f(xsol-c*t[i],a)+0.5*f(xsol+c*t[i],a)\n",
    "        Sol_carre[:,i]=0.5*square_Init(xsol-c*t[i],0,a,1)+0.5*square_Init(xsol+c*t[i],0,a,1)\n",
    "    else:\n",
    "        Sol_cos[:,i]=0.5*f(xsol-c*t[i],a)+0.5*f(xsol+c*t[i],a)-0.5*f(2*L-xsol-c*t[i],a)-0.5*f(-2*L-xsol+c*t[i],a)\n",
    "        Sol_carre[:,i]=0.5*square_Init(xsol-c*t[i],0,a,1)+0.5*square_Init(xsol+c*t[i],0,a,1)-0.5*square_Init(2*L-xsol-c*t[i],0,a,1)-0.5*square_Init(-2*L-xsol+c*t[i],0,a,1)"
   ]
  },
  {
   "cell_type": "code",
   "execution_count": null,
   "metadata": {},
   "outputs": [],
   "source": []
  },
  {
   "cell_type": "code",
   "execution_count": 19,
   "metadata": {},
   "outputs": [
    {
     "data": {
      "application/vnd.jupyter.widget-view+json": {
       "model_id": "1af79c5bbbf3482daeeab29d3a537643",
       "version_major": 2,
       "version_minor": 0
      },
      "text/plain": [
       "Canvas(toolbar=Toolbar(toolitems=[('Home', 'Reset original view', 'home', 'home'), ('Back', 'Back to previous …"
      ]
     },
     "metadata": {},
     "output_type": "display_data"
    }
   ],
   "source": [
    "Mspan=[0,0.25,0.5,0.75,0.99]\n",
    "fig,ax=plt.subplots(2,5,figsize=(15,10))\n",
    "for i in range(len(Mspan)):\n",
    "    n=int(np.floor(M*Mspan[i]))\n",
    "    ax[0,i].plot(xsol,Sol_carre[:,n],label='exact')\n",
    "    ax[0,i].plot(x,U_carre[0][:,n],label='Sol Num',linestyle='--')\n",
    "    ax[0,i].legend(loc='best',fontsize='small')\n",
    "    ax[0,i].set_xlabel('x')\n",
    "    #ax[i].set_ylabel('u')\n",
    "    ax[0,i].set_ylim((-1.2,1.2))\n",
    "    ax[0,i].set_title('time=%.2f, lambda=%.2f'%(U_carre[2][n],U_carre[3]))\n",
    "    ax[1,i].plot(xsol,Sol_cos[:,n],label='exact')\n",
    "    ax[1,i].plot(x,U_cos[0][:,n],label='Sol Num',linestyle='--')\n",
    "    ax[1,i].legend(loc='best',fontsize='small')\n",
    "    ax[1,i].set_xlabel('x')\n",
    "    #ax[i].set_ylabel('u')\n",
    "    ax[1,i].set_ylim((-1.2,1.2))\n",
    "    ax[1,i].set_title('time=%.2f, lambda=%.2f'%(U_cos[2][n],U_cos[3]))\n",
    "plt.show()"
   ]
  },
  {
   "cell_type": "code",
   "execution_count": 57,
   "metadata": {},
   "outputs": [
    {
     "name": "stdout",
     "output_type": "stream",
     "text": [
      "0.9977900552486123\n",
      "0.9977900552486123\n"
     ]
    },
    {
     "data": {
      "application/vnd.jupyter.widget-view+json": {
       "model_id": "bbfb648914f94049a0fa52b7c224a40d",
       "version_major": 2,
       "version_minor": 0
      },
      "text/plain": [
       "Canvas(toolbar=Toolbar(toolitems=[('Home', 'Reset original view', 'home', 'home'), ('Back', 'Back to previous …"
      ]
     },
     "metadata": {},
     "output_type": "display_data"
    },
    {
     "data": {
      "text/plain": [
       "[Text(0.0, 0, '0'),\n",
       " Text(1.5707963267948966, 0, '$\\\\frac{\\\\pi}{2}$'),\n",
       " Text(3.141592653589793, 0, '$\\\\pi$')]"
      ]
     },
     "execution_count": 57,
     "metadata": {},
     "output_type": "execute_result"
    }
   ],
   "source": [
    "ko=np.linspace(0.01,np.pi-0.001,100)\n",
    "h=x[1]-x[0]\n",
    "k=t[1]-t[0]\n",
    "lmb=U_cos[3]\n",
    "print(lmb)\n",
    "print(c*k/h)\n",
    "omeg_d=(2/k)*np.arcsin(lmb*np.sin(ko/2))\n",
    "\n",
    "\n",
    "v_phn=(omeg_d/ko)/c\n",
    "v_gn=(c*np.cos(ko/2)/np.sqrt(1-lmb**2*np.sin(ko/2)**2))/c\n",
    "fig,ax=plt.subplots(1,3,figsize=(15,5))\n",
    "ax[0].plot(ko,omeg_d)\n",
    "ax[0].set_xlabel(r'$\\bar{k}h$')\n",
    "ax[0].set_ylabel(r'$\\omega$')\n",
    "ax[0].plot(ko,ko,linestyle='--')\n",
    "ax[0].set_xticks([0.0,np.pi/2, np.pi])\n",
    "ax[0].set_xticklabels(('0',r'$\\frac{\\pi}{2}$', r'$\\pi$'),fontsize=10)\n",
    "ax[1].plot(ko,v_phn)\n",
    "ax[1].set_xlabel(r'$\\bar{k}h$')\n",
    "ax[1].set_ylabel(r'$v_{phn}/c$')\n",
    "#ax[1].set_ylim((0,1.01))\n",
    "ax[1].set_xticks([0.0,np.pi/2, np.pi])\n",
    "ax[1].set_xticklabels(('0',r'$\\frac{\\pi}{2}$', r'$\\pi$'),fontsize=10)\n",
    "ax[2].plot(ko,v_gn)\n",
    "ax[2].set_xlabel(r'$\\bar{k}h$')\n",
    "ax[2].set_ylabel(r'$v_{gn}/c$')\n",
    "ax[2].set_ylim((0,1.01))\n",
    "ax[2].set_xticks([0.0,np.pi/2, np.pi])\n",
    "ax[2].set_xticklabels(('0',r'$\\frac{\\pi}{2}$', r'$\\pi$'),fontsize=10)\n"
   ]
  },
  {
   "cell_type": "code",
   "execution_count": null,
   "metadata": {},
   "outputs": [],
   "source": []
  },
  {
   "cell_type": "code",
   "execution_count": 89,
   "metadata": {},
   "outputs": [],
   "source": [
    "def damped_wave(U0,a,b,x,tmax,lmb):\n",
    "    h=np.abs(x[1]-x[0])\n",
    "    k=lmb*h/(abs(a))\n",
    "    M=int(np.round(tmax/k))+1\n",
    "    t=np.linspace(0.,tmax,M)\n",
    "    k=t[1]-t[0]\n",
    "    lmb=np.abs(a)*k/h\n",
    "    A=0.5*((1-b*k)*lmb**2-(1-b*k+(1/2)*b**2*k**2)*lmb)\n",
    "    B=1-b*k+(1/2)*b**2*k**2-(1/6)*b**3*k**3-(1-b*k)*lmb**2\n",
    "    C=0.5*((1-b*k)*lmb**2+(1-b*k+0.5*b**2*k**2)*lmb)\n",
    "    U=np.zeros((np.shape(x)[0],np.shape(t)[0]))\n",
    "    U[:,0]=U0\n",
    "    Usol[:,1]=U0\n",
    "    for i in range(M-1):\n",
    "        U[1:-1,i+1]=(lmb**2)/(1+a*k/2)*U[:-2,i]+(lmb**2)/(1+a*k/2)*U[2:,i]+(2-2*lmb**2)/(1+a*k/2)*U[1:-1,i]-((1-a*k/2)/(1+a*k/2))*U[1:-1,i-1]\n",
    "        U[0,i+1]=0\n",
    "        U[-1,i+1]=0\n",
    "    return(U,x,t)\n",
    "\n"
   ]
  },
  {
   "cell_type": "code",
   "execution_count": 5,
   "metadata": {},
   "outputs": [
    {
     "ename": "NameError",
     "evalue": "name 'sig' is not defined",
     "output_type": "error",
     "traceback": [
      "\u001b[0;31m---------------------------------------------------------------------------\u001b[0m",
      "\u001b[0;31mNameError\u001b[0m                                 Traceback (most recent call last)",
      "\u001b[0;32m<ipython-input-5-5350d0636eda>\u001b[0m in \u001b[0;36m<module>\u001b[0;34m\u001b[0m\n\u001b[1;32m      8\u001b[0m \u001b[0mlmb\u001b[0m\u001b[0;34m=\u001b[0m\u001b[0;36m0.75\u001b[0m\u001b[0;34m\u001b[0m\u001b[0;34m\u001b[0m\u001b[0m\n\u001b[1;32m      9\u001b[0m \u001b[0;34m\u001b[0m\u001b[0m\n\u001b[0;32m---> 10\u001b[0;31m \u001b[0mU0\u001b[0m\u001b[0;34m=\u001b[0m\u001b[0mnp\u001b[0m\u001b[0;34m.\u001b[0m\u001b[0mexp\u001b[0m\u001b[0;34m(\u001b[0m\u001b[0;34m-\u001b[0m\u001b[0;36m2\u001b[0m\u001b[0;34m*\u001b[0m\u001b[0msig\u001b[0m\u001b[0;34m*\u001b[0m\u001b[0mx\u001b[0m\u001b[0;34m**\u001b[0m\u001b[0;36m2\u001b[0m\u001b[0;34m)\u001b[0m\u001b[0;34m\u001b[0m\u001b[0;34m\u001b[0m\u001b[0m\n\u001b[0m\u001b[1;32m     11\u001b[0m \u001b[0;34m\u001b[0m\u001b[0m\n\u001b[1;32m     12\u001b[0m \u001b[0;34m\u001b[0m\u001b[0m\n",
      "\u001b[0;31mNameError\u001b[0m: name 'sig' is not defined"
     ]
    }
   ],
   "source": [
    "tmax=10.\n",
    "a=1\n",
    "c=1\n",
    "N=502\n",
    "L=500\n",
    "x=np.linspace(-L,L,N+2)\n",
    "\n",
    "lmb=0.75\n",
    "\n",
    "#Conditions initiales\n",
    "U0=np.exp(-2*sig*x**2)\n",
    "\n",
    "\n",
    "Usol=np.zeros((N,M))\n",
    "\n",
    "sig=1\n",
    "Usol[:,0]=np.exp(-2*sig*x**2)\n",
    "Usol[:,1]=np.exp(-2*sig*x**2)\n",
    "Sol=np.zeros((N,M))\n",
    "for i in range(np.shape(t)[0]):\n",
    "    Sol[:,i]=0.5*np.exp(-2*sig*(x-c*t[i])**2)+0.5*np.exp(-2*sig*(x+c*t[i])**2)\n",
    "\n",
    "\n"
   ]
  },
  {
   "cell_type": "markdown",
   "metadata": {},
   "source": [
    "$u_{tt}+au_{t}=u_{xx}$"
   ]
  }
 ],
 "metadata": {
  "kernelspec": {
   "display_name": "Python 3",
   "language": "python",
   "name": "python3"
  },
  "language_info": {
   "codemirror_mode": {
    "name": "ipython",
    "version": 3
   },
   "file_extension": ".py",
   "mimetype": "text/x-python",
   "name": "python",
   "nbconvert_exporter": "python",
   "pygments_lexer": "ipython3",
   "version": "3.8.5"
  }
 },
 "nbformat": 4,
 "nbformat_minor": 4
}
