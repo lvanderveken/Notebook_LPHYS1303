{
 "cells": [
  {
   "cell_type": "code",
   "execution_count": 1,
   "metadata": {},
   "outputs": [],
   "source": [
    "%matplotlib widget\n",
    "import numpy as np\n",
    "import matplotlib.pyplot as plt"
   ]
  },
  {
   "cell_type": "markdown",
   "metadata": {},
   "source": [
    "# Exercice 2: A-stabilité méthode d'Euler\n",
    "Déterminer les conditions de A-stabilité de l'Euler avant, arrière centré.\n",
    "\n",
    "- Euler avant: $k<2$\n",
    "- Euler arrière: inconditionnellement A-stable\n",
    "- Euler centré: inconditionnellement A-stable\n",
    "\n",
    "# Exercice 3: Monoticité des méthodes d'Euler\n",
    "\n",
    "Déterminer la condition de monotonicité pour l’Euler avant, arrière et centré.\n",
    "\n",
    "- Euler avant: $k<1$\n",
    "- Euler arrière: inconditionnellement monotone\n",
    "- Euler centré: $k<2$"
   ]
  },
  {
   "cell_type": "code",
   "execution_count": 2,
   "metadata": {},
   "outputs": [
    {
     "data": {
      "application/vnd.jupyter.widget-view+json": {
       "model_id": "5aecd433da5a4297859fb248a7ebc4d7",
       "version_major": 2,
       "version_minor": 0
      },
      "text/plain": [
       "Canvas(toolbar=Toolbar(toolitems=[('Home', 'Reset original view', 'home', 'home'), ('Back', 'Back to previous …"
      ]
     },
     "metadata": {},
     "output_type": "display_data"
    }
   ],
   "source": [
    "tmax=10\n",
    "k=1\n",
    "N=int(np.floor(tmax/k))+1\n",
    "t=np.linspace(0,tmax,N)\n",
    "u_EUav=np.zeros(N)\n",
    "u_EUar=np.zeros(N)\n",
    "u_EUcen=np.zeros(N)\n",
    "\n",
    "#CI\n",
    "u_EUav[0]=1\n",
    "u_EUar[0]=1\n",
    "u_EUcen[0]=1\n",
    "\n",
    "for i in range(N-1):\n",
    "    u_EUav[i+1]=(1-k)*u_EUav[i]\n",
    "    u_EUar[i+1]=u_EUar[i]/(1+k)\n",
    "    u_EUcen[i+1]=((1-k/2)/(1+k/2))*u_EUcen[i]\n",
    "\n",
    "\n",
    "fig,ax=plt.subplots(figsize=(15,5))\n",
    "ax.plot(np.linspace(0,tmax,1001),np.exp(-np.linspace(0,tmax,1001)))\n",
    "ax.plot(t,u_EUav,'o',label='Avant')\n",
    "ax.plot(t,u_EUar,'^',label='Arrière')\n",
    "ax.plot(t,u_EUcen,'+',label='Centré')\n",
    "ax.legend()\n",
    "ax.set_title('Décroissance radioactive')\n",
    "plt.show()\n",
    "\n"
   ]
  },
  {
   "cell_type": "markdown",
   "metadata": {},
   "source": [
    "# Exercice 4: Oscillateur harmonique\n",
    "L'équation de l'oscillateur harmonique est:\n",
    "\n",
    "${\\large \\frac{d^{2}x}{dt^{2}}=-\\frac{-K}{m}x}$\n",
    "\n",
    "avec $K$ la constante de raideur du ressort et $m$ la masse.\n",
    "\n",
    "Cette équation peut s'écrire sous forme matriciel:\n",
    "\n",
    "${\\large \\frac{d \\mathbf{x}}{dt}=M\\mathbf{x}}$, avec ${\\large \\mathbf{x}=(p,x)}$ et \n",
    "${\\large M=\\begin{pmatrix} \n",
    "0 & -K\\\\\n",
    "1/m & 0\\\\\n",
    "\\end{pmatrix}\n",
    "}$\n",
    "\n",
    "**Vérifier que le schéma Euler avant crée de l’énergie ; que l’Euler arrière en détruit ; et que seul l’Euler centré est conservatif. Illustrer ces propriétés en intégrant le système.**"
   ]
  },
  {
   "cell_type": "code",
   "execution_count": 3,
   "metadata": {},
   "outputs": [],
   "source": [
    "\n",
    "np.set_printoptions(precision=6)\n",
    "\n",
    "\n",
    "def HarmOsc(K,m,t,x0,mode):\n",
    "    k=t[1]-t[0]\n",
    "    x=np.zeros((2,np.shape(t)[0]))\n",
    "    x[:,0]=x0\n",
    "    M=np.array([[0,-K],[1/m,0]])\t\n",
    "    if mode=='Euler avant':\n",
    "        for i in range(np.shape(x)[1]-1):\n",
    "            M=np.array([[0,-K],[1/m,0]])\n",
    "            x[:,i+1]=(np.identity(2)+k*M).dot(x[:,i])\n",
    "    elif mode=='Euler arrière':\n",
    "        for i in range(np.shape(x)[1]-1):\n",
    "            M=np.array([[0,-K],[1/m,0]])\n",
    "            x[:,i+1]=np.linalg.solve((np.identity(2)-k*M),x[:,i])\n",
    "    elif mode=='Euler centré':\n",
    "        for i in range(np.shape(x)[1]-1):\n",
    "            M=np.array([[0,-K],[1/m,0]])\n",
    "            x[:,i+1]=np.linalg.solve((np.identity(2)-k/2*M),(np.identity(2)+k/2*M).dot(x[:,i]))\n",
    "    elif mode=='Leapfrog':\n",
    "        x[:,1]=x[:,0]\n",
    "        for i in range (1,np.shape(x)[1]-1):\n",
    "            x[:,i+1]=x[:,i-1]+2*k*M.dot(x[:,i])\n",
    "    elif mode=='Heun':\n",
    "        for i in range(np.shape(x)[1]-1):\n",
    "            xx=x[:,i]+k*M.dot(x[:,i])\n",
    "            x[:,i+1]=x[:,i]+(k/2)*(M.dot(x[:,i])+M.dot(xx))\n",
    "    elif mode=='RK4':\n",
    "        for i in range(np.shape(x)[1]-1):\n",
    "            k1=k*M.dot(x[:,i])\n",
    "            k2=k*M.dot(x[:,i]+k1/2)\n",
    "            k3=k*M.dot(x[:,i]+k2/2)\n",
    "            k4=k*M.dot(x[:,i]+k3)\n",
    "            x[:,i+1]=x[:,i]+(k1+2*k2+2*k3+k4)/6\n",
    "    elif mode=='Verlet':\n",
    "        for i in range(np.shape(x)[1]-1):\n",
    "            pp=x[0,i]-k*K*x[1,i]\n",
    "            x[1,i+1]=x[1,i]+(k/2)*(x[0,i]/m+pp/m)\n",
    "            x[0,i+1]=x[0,i]-(k/2)*(x[1,i]+x[1,i+1])\n",
    "    elif mode=='Stormer_Verlet':\n",
    "        for i in range(np.shape(x)[1]-1):\n",
    "            pp=x[0,i]-(k/2)*k*x[1,i]\n",
    "            x[1,i+1]=x[1,i]+(k)*(pp/m)\n",
    "            x[0,i+1]=pp-(k/2)*(x[1,i+1])\n",
    "    else:\n",
    "        print('Invalid integration method')\n",
    "    return(x)\n",
    "\n",
    "def Energie_calc(x,k,m):\n",
    "    return((x[0,:]*x[0,:])/(2*m)+k*(x[1,:]*x[1,:])/2)"
   ]
  },
  {
   "cell_type": "code",
   "execution_count": 4,
   "metadata": {},
   "outputs": [],
   "source": [
    "#paramètres du problème\n",
    "K=1.\n",
    "m=1.0\n",
    "#paramètre de l'intégration numérique\n",
    "k=0.1\n",
    "tmax=50\n",
    "N=int(np.floor(tmax/k))+1\n",
    "t=np.linspace(0,tmax,N)\n",
    "#Conditions initiales\n",
    "x0=[0,1]\n",
    "#Solution analytique\n",
    "omega=np.sqrt(K/m)\n",
    "xsol=np.zeros((2,N))\n",
    "xsol[1,:]=x0[1]*np.cos(omega*t)+x0[0]/(m*omega)*np.sin(omega*t)\n",
    "xsol[0,:]=(-x0[1]*omega*np.sin(omega*t)+x0[0]/(m*omega)*omega*np.cos(omega*t))*m\n",
    "\n",
    "x_EUav=HarmOsc(K,m,t,x0,'Euler avant')\n",
    "x_EUar=HarmOsc(K,m,t,x0,'Euler arrière')\n",
    "x_EUcen=HarmOsc(K,m,t,x0,'Euler centré')\n",
    "\n",
    "\n",
    "E_EUcen=Energie_calc(x_EUcen,K,m)\n",
    "E_EUar=Energie_calc(x_EUar,K,m)\n",
    "E_EUav=Energie_calc(x_EUav,K,m)\n",
    "Esol=Energie_calc(xsol,K,m)"
   ]
  },
  {
   "cell_type": "code",
   "execution_count": 5,
   "metadata": {},
   "outputs": [
    {
     "data": {
      "application/vnd.jupyter.widget-view+json": {
       "model_id": "9509d539c7fe4f8ca3d052322a5c534e",
       "version_major": 2,
       "version_minor": 0
      },
      "text/plain": [
       "Canvas(toolbar=Toolbar(toolitems=[('Home', 'Reset original view', 'home', 'home'), ('Back', 'Back to previous …"
      ]
     },
     "metadata": {},
     "output_type": "display_data"
    }
   ],
   "source": [
    "fig,ax=plt.subplots(figsize=(5,5))\n",
    "ax.plot(xsol[1,:],xsol[0,:]/m,label='Theoretical',marker='o')\n",
    "ax.plot(x_EUav[1,:],x_EUav[0,:]/m,label='Euler avant')\n",
    "ax.plot(x_EUar[1,:],x_EUar[0,:]/m,label='Euler arrière')\n",
    "ax.plot(x_EUcen[1,:],x_EUcen[0,:]/m,label='Euler centré')\n",
    "ax.plot(x0[1],x0[0]/m,'ro')\n",
    "ax.legend(loc='best',fontsize='small')\n",
    "ax.set_xlabel('x')\n",
    "ax.set_ylabel('v')\n",
    "ax.set_title('Oscillateur harmonique, k =%.3f'%(k))\n",
    "ax.set_xlim((-2,2))\n",
    "ax.set_ylim((-2,2))\n",
    "plt.show()\n"
   ]
  },
  {
   "cell_type": "code",
   "execution_count": 6,
   "metadata": {},
   "outputs": [
    {
     "data": {
      "application/vnd.jupyter.widget-view+json": {
       "model_id": "b87046c0cb604c2d87728f226b740e5d",
       "version_major": 2,
       "version_minor": 0
      },
      "text/plain": [
       "Canvas(toolbar=Toolbar(toolitems=[('Home', 'Reset original view', 'home', 'home'), ('Back', 'Back to previous …"
      ]
     },
     "metadata": {},
     "output_type": "display_data"
    }
   ],
   "source": [
    "fig,ax=plt.subplots(figsize=(5,5))\n",
    "ax.plot(t,E_EUcen,label='Euler centré',marker='D')\n",
    "ax.plot(t,E_EUav,label='Euler avant')\n",
    "ax.plot(t,E_EUar,label='Euler arrière')\n",
    "ax.plot(t,Esol,label='Theoretical')\n",
    "plt.ylim((0.45,0.525))\n",
    "plt.xlim((-1,50))\n",
    "plt.legend(loc='best',fontsize='small')\n",
    "plt.xlabel('t')\n",
    "plt.ylabel('Energie')\n",
    "plt.title('Oscillateur harmonique: k= %.5f'%(k))\n",
    "plt.show()"
   ]
  },
  {
   "cell_type": "markdown",
   "metadata": {},
   "source": [
    "# Exercice 6: Leap-frog\n",
    "\n",
    "On a montré que le schéma leap-frog est inconditionnellement instable pour la décroissance radioactive"
   ]
  },
  {
   "cell_type": "code",
   "execution_count": 7,
   "metadata": {},
   "outputs": [],
   "source": [
    "tmax=10\n",
    "k=0.1\n",
    "N=int(np.floor(tmax/k))+1\n",
    "t=np.linspace(0,tmax,N)\n",
    "u_LP=np.zeros(N)\n",
    "\n",
    "#CI\n",
    "u_LP[0]=1\n",
    "u_LP[1]=(1-k)*u_LP[0]\n",
    "\n",
    "for i in range(1,N-1):\n",
    "    u_LP[i+1]=u_LP[i-1]-2*k*u_LP[i]"
   ]
  },
  {
   "cell_type": "code",
   "execution_count": 8,
   "metadata": {},
   "outputs": [
    {
     "data": {
      "application/vnd.jupyter.widget-view+json": {
       "model_id": "41290b96b7534c64981272b5d5e7d8e3",
       "version_major": 2,
       "version_minor": 0
      },
      "text/plain": [
       "Canvas(toolbar=Toolbar(toolitems=[('Home', 'Reset original view', 'home', 'home'), ('Back', 'Back to previous …"
      ]
     },
     "metadata": {},
     "output_type": "display_data"
    }
   ],
   "source": [
    "fig,ax=plt.subplots(figsize=(5,5))\n",
    "ax.plot(np.linspace(0,tmax,1001),np.exp(-np.linspace(0,tmax,1001)))\n",
    "ax.plot(t,u_LP,'o',label='Leap-frog')\n",
    "ax.legend()\n",
    "ax.set_title('Décroissance radioactive')\n",
    "plt.show()"
   ]
  },
  {
   "cell_type": "markdown",
   "metadata": {},
   "source": [
    "# Exercice 7: Equation logistique\n",
    "\n",
    "L'équation logistique:\n",
    "\n",
    "${\\large \n",
    "\\begin{equation*}\n",
    "\\frac{dx}{dt}=\\lambda x(1-x), \\quad x_{0}=\\alpha\n",
    "\\end{equation*}}\n",
    "$\n",
    "\n",
    "a pour solution exacte:\n",
    "\n",
    "${\\large \\begin{equation*}\n",
    "x(t)=\\frac{\\alpha}{\\alpha +(1- \\alpha )e^{-\\lambda t}}\n",
    "\\end{equation*}}$\n",
    "\n",
    "**Comparer les erreurs des schémas explicites Euler avant, Heun et RK4 pour différents pas de temps.\n",
    "Le schéma Euler arrière peut s'établir analytiquement pour l'équation logistique, mais cela implique de résoudre, à chaque pas de temps, une équation du second degré, ... qui a donc deux solutions. Laquelle des deux retenirs?**"
   ]
  },
  {
   "cell_type": "code",
   "execution_count": 9,
   "metadata": {},
   "outputs": [],
   "source": [
    "def int_log(N,tmax,lmb,alpha,mode):\n",
    "    N=int(N)\n",
    "    t=np.linspace(0,tmax,N)\n",
    "    k=tmax/(float(N-1))\n",
    "    F=lambda z: lmb*z*(1.-z)\n",
    "    x=np.zeros(N)\n",
    "    x[0]=alpha\n",
    "    if mode=='Euler avant':\n",
    "        for i in range(N-1):\n",
    "            x[i+1]=x[i]+k*F(x[i])\n",
    "    elif mode=='Heun':\n",
    "        for i in range(N-1):\n",
    "            xx=x[i]+k*F(x[i])\n",
    "            x[i+1]=x[i]+(k/2)*(F(x[i])+F(xx))\n",
    "    elif mode=='RK4':\n",
    "        for i in range(N-1):\n",
    "            k1=k*F(x[i])\n",
    "            k2=k*F(x[i]+k1/2)\n",
    "            k3=k*F(x[i]+k2/2)\n",
    "            k4=k*F(x[i]+k3)\n",
    "            x[i+1]=x[i]+(k1+2*k2+2*k3+k4)/6\n",
    "    else:\n",
    "        print('Invalid integration method')\n",
    "    return(x,t)"
   ]
  },
  {
   "cell_type": "code",
   "execution_count": 10,
   "metadata": {},
   "outputs": [],
   "source": [
    "lmb=1\n",
    "alpha=0.1\n",
    "tmax=10\n",
    "k=1\n",
    "N=int(np.floor(tmax/k))+1\n",
    "t=np.linspace(0,tmax,N)\n",
    "\n",
    "mode='Euler avant'\n",
    "sol=int_log(N,tmax,lmb,alpha,mode)"
   ]
  },
  {
   "cell_type": "code",
   "execution_count": 11,
   "metadata": {},
   "outputs": [
    {
     "data": {
      "application/vnd.jupyter.widget-view+json": {
       "model_id": "9c4281082a734f31b101dc5a656d8507",
       "version_major": 2,
       "version_minor": 0
      },
      "text/plain": [
       "Canvas(toolbar=Toolbar(toolitems=[('Home', 'Reset original view', 'home', 'home'), ('Back', 'Back to previous …"
      ]
     },
     "metadata": {},
     "output_type": "display_data"
    }
   ],
   "source": [
    "fig,ax=plt.subplots(figsize=(5,5))\n",
    "ax.plot(np.linspace(0,tmax,1000),alpha/(alpha+(1.-alpha)*np.exp(-lmb*np.linspace(0,tmax,1000))))\n",
    "ax.plot(t,sol[0],'o',label=mode)\n",
    "ax.legend()\n",
    "ax.set_title('Equation logistique')\n",
    "plt.show()"
   ]
  },
  {
   "cell_type": "code",
   "execution_count": 12,
   "metadata": {},
   "outputs": [],
   "source": [
    "lmb=1\n",
    "alpha=0.1\n",
    "Nsim=6\n",
    "N=10**(np.linspace(2,7,Nsim))\n",
    "tmax=1\n",
    "diff_EUav=np.zeros(Nsim)\n",
    "diff_heun=np.zeros(Nsim)\n",
    "diff_RK4=np.zeros(Nsim)\n",
    "xexact=alpha/(alpha+(1.-alpha)*np.exp(-lmb*1.))\n",
    "for j in range(Nsim):\n",
    "    x_EUav,t=int_log(N[j],tmax,lmb,alpha,'Euler avant')\n",
    "    x_heun,t=int_log(N[j],tmax,lmb,alpha,'Heun')\n",
    "    x_RK4,t=int_log(N[j],tmax,lmb,alpha,'RK4')\n",
    "    diff_EUav[j]=np.abs(xexact-x_EUav[-1])\n",
    "    diff_heun[j]=np.abs(xexact-x_heun[-1])\n",
    "    diff_RK4[j]=np.abs(xexact-x_RK4[-1])"
   ]
  },
  {
   "cell_type": "code",
   "execution_count": 13,
   "metadata": {},
   "outputs": [
    {
     "data": {
      "application/vnd.jupyter.widget-view+json": {
       "model_id": "95338c378533466ba9c5418d67eb034c",
       "version_major": 2,
       "version_minor": 0
      },
      "text/plain": [
       "Canvas(toolbar=Toolbar(toolitems=[('Home', 'Reset original view', 'home', 'home'), ('Back', 'Back to previous …"
      ]
     },
     "metadata": {},
     "output_type": "display_data"
    }
   ],
   "source": [
    "fig,ax=plt.subplots(figsize=(5,5))\n",
    "plt.loglog(N,diff_EUav,'bo',label='Euler avant')\n",
    "plt.loglog(N,diff_heun,'rD',label='Heun')\n",
    "plt.loglog(N,diff_RK4,'g^',label='RK4')\n",
    "plt.loglog(N,N**(-1)*(diff_EUav[0]/N[0]**(-1)),'b--',label='$1/k$')\n",
    "plt.loglog(N,(N)**(-2)*(diff_heun[0]/N[0]**(-2)),'r--',label='$1/k^{2}$')\n",
    "plt.loglog(N,N**(-4)*(diff_RK4[0]/N[0]**(-4)),'g--',label='$1/k^{4}$')\n",
    "plt.title('$|x(t) - x_{t/k}|,\\ t=1$')\n",
    "plt.xlabel('$1/k$')\n",
    "plt.legend(loc='best',fontsize='small')\n",
    "plt.ylim((10**(-16),10**(-1)))\n",
    "plt.show()"
   ]
  },
  {
   "cell_type": "markdown",
   "metadata": {},
   "source": [
    "# Exercice 8: Oscillateur harmonique symplectique"
   ]
  },
  {
   "cell_type": "code",
   "execution_count": 14,
   "metadata": {},
   "outputs": [],
   "source": [
    "#paramètres du problème\n",
    "K=1.\n",
    "m=1.0\n",
    "#paramètre de l'intégration numérique\n",
    "k=1\n",
    "tmax=500\n",
    "N=int(np.floor(tmax/k))+1\n",
    "t=np.linspace(0,tmax,N)\n",
    "#Conditions initiales\n",
    "x0=[0,1]\n",
    "#Solution analytique\n",
    "omega=np.sqrt(K/m)\n",
    "xsol=np.zeros((2,50000))\n",
    "xsol[1,:]=x0[1]*np.cos(omega*np.linspace(0,tmax,50000))+x0[0]/(m*omega)*np.sin(omega*np.linspace(0,tmax,50000))\n",
    "xsol[0,:]=(-x0[1]*omega*np.sin(omega*np.linspace(0,tmax,50000))+x0[0]/(m*omega)*omega*np.cos(omega*np.linspace(0,tmax,50000)))*m\n",
    "\n",
    "\n",
    "\n",
    "x_Verl=HarmOsc(K,m,t,x0,'Verlet')\n",
    "x_StVer=HarmOsc(K,m,t,x0,'Stormer_Verlet')\n",
    "x_Heun=HarmOsc(K,m,t,x0,'Heun')\n",
    "x_RK4=HarmOsc(K,m,t,x0,'RK4')\n",
    "E_Verl=Energie_calc(x_Verl,K,m)\n",
    "E_StVerl=Energie_calc(x_StVer,K,m)\n",
    "E_RK4=Energie_calc(x_RK4,K,m)\n",
    "E_Heun=Energie_calc(x_Heun,K,m)\n",
    "Esol=Energie_calc(xsol,K,m)\n"
   ]
  },
  {
   "cell_type": "code",
   "execution_count": 15,
   "metadata": {},
   "outputs": [
    {
     "data": {
      "application/vnd.jupyter.widget-view+json": {
       "model_id": "32d22e4222994ba5a7ea2d6110c20d18",
       "version_major": 2,
       "version_minor": 0
      },
      "text/plain": [
       "Canvas(toolbar=Toolbar(toolitems=[('Home', 'Reset original view', 'home', 'home'), ('Back', 'Back to previous …"
      ]
     },
     "metadata": {},
     "output_type": "display_data"
    }
   ],
   "source": [
    "fig,ax=plt.subplots(1,2,figsize=(10,5))\n",
    "ax[0].plot(xsol[1,:],xsol[0,:]/m,label='Theoretical')\n",
    "ax[0].plot(x_Heun[1,:],x_Heun[0,:]/m,label='Heun')\n",
    "ax[0].plot(x_Verl[1,:],x_Verl[0,:]/m,label='Verlet')\n",
    "ax[0].plot(x_RK4[1,:],x_RK4[0,:]/m,label='RK4')\n",
    "ax[0].plot(x0[1],x0[0]/m,'ko')\n",
    "ax[0].legend(loc='best',fontsize='small')\n",
    "ax[0].set_xlabel('x')\n",
    "ax[0].set_ylabel('v')\n",
    "ax[0].set_title('Oscillateur harmonique, k =%.3f'%(k))\n",
    "ax[0].set_xlim((-2,2))\n",
    "ax[0].set_ylim((-2,2))\n",
    "ax[1].plot(np.linspace(0,tmax,50000),Esol,label='Theoretical')\n",
    "ax[1].plot(t,E_Heun,label='Heun')\n",
    "ax[1].plot(t,E_Verl,label='Verlet')\n",
    "ax[1].plot(t,E_RK4,label='RK4')\n",
    "ax[1].legend(loc='best',fontsize='small')\n",
    "ax[1].set_xlabel('t')\n",
    "ax[1].set_ylabel('Energie')\n",
    "ax[1].set_title('Oscillateur harmonique, k =%.3f'%(k))\n",
    "ax[1].set_ylim((0.4,0.6))\n",
    "ax[1].set_xlim((-2,50))\n",
    "plt.show()\n",
    "\n",
    "\n"
   ]
  }
 ],
 "metadata": {
  "kernelspec": {
   "display_name": "Python 3",
   "language": "python",
   "name": "python3"
  },
  "language_info": {
   "codemirror_mode": {
    "name": "ipython",
    "version": 3
   },
   "file_extension": ".py",
   "mimetype": "text/x-python",
   "name": "python",
   "nbconvert_exporter": "python",
   "pygments_lexer": "ipython3",
   "version": "3.8.5"
  }
 },
 "nbformat": 4,
 "nbformat_minor": 4
}
