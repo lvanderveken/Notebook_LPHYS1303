{
 "cells": [
  {
   "cell_type": "markdown",
   "metadata": {},
   "source": [
    "# Exercice 2: A-stabilité méthode d'Euler\n",
    "Déterminer les conditions de A-stabilité de l'Euler avant, arrière centré.\n",
    "\n",
    "- Euler avant: $k<2$\n",
    "- Euler arrière: inconditionnellement A-stable\n",
    "- Euler centré: inconditionnellement A-stable\n",
    "\n",
    "# Exercice 3: Monoticité des méthodes d'Euler\n",
    "\n",
    "Déterminer la condition de monotonicité pour l’Euler avant, arrière et centré.\n",
    "\n",
    "- Euler avant: $k<1$\n",
    "- Euler arrière: inconditionnellement monotone\n",
    "- Euler centré: $k<2$"
   ]
  },
  {
   "cell_type": "code",
   "execution_count": 1,
   "metadata": {},
   "outputs": [
    {
     "data": {
      "application/vnd.jupyter.widget-view+json": {
       "model_id": "8d5e918aeb804096a4c1da7688f8372c",
       "version_major": 2,
       "version_minor": 0
      },
      "text/plain": [
       "Canvas(toolbar=Toolbar(toolitems=[('Home', 'Reset original view', 'home', 'home'), ('Back', 'Back to previous …"
      ]
     },
     "metadata": {},
     "output_type": "display_data"
    }
   ],
   "source": [
    "%matplotlib widget\n",
    "import numpy as np\n",
    "import matplotlib.pyplot as plt\n",
    "\n",
    "tmax=10\n",
    "k=2.5\n",
    "N=int(np.floor(tmax/k))+1\n",
    "t=np.linspace(0,tmax,N)\n",
    "u_EUav=np.zeros(N)\n",
    "u_EUar=np.zeros(N)\n",
    "u_EUcen=np.zeros(N)\n",
    "\n",
    "#CI\n",
    "u_EUav[0]=1\n",
    "u_EUar[0]=1\n",
    "u_EUcen[0]=1\n",
    "\n",
    "for i in range(N-1):\n",
    "    u_EUav[i+1]=(1-k)*u_EUav[i]\n",
    "    u_EUar[i+1]=u_EUar[i]/(1+k)\n",
    "    u_EUcen[i+1]=((1-k/2)/(1+k/2))*u_EUcen[i]\n",
    "\n",
    "\n",
    "fig,ax=plt.subplots(figsize=(5,5))\n",
    "ax.plot(t,np.exp(-t))\n",
    "ax.plot(t,u_EUav,'o',label='Avant')\n",
    "ax.plot(t,u_EUar,'^',label='Arrière')\n",
    "ax.plot(t,u_EUcen,'+',label='Centré')\n",
    "ax.legend()\n",
    "ax.set_title('Décroissance radioactive')\n",
    "plt.show()\n",
    "\n"
   ]
  },
  {
   "cell_type": "markdown",
   "metadata": {},
   "source": [
    "# Exercice 4: Oscillateur harmonique\n",
    "L'équation de l'oscillateur harmonique est:\n",
    "\n",
    "${\\large \\frac{d^{2}x}{dt^{2}}=-\\frac{-K}{m}x}$\n",
    "\n",
    "avec $K$ la constante de raideur du ressort et $m$ la masse.\n",
    "\n",
    "Cette équation peut s'écrire sous forme matriciel:\n",
    "\n",
    "${\\large \\frac{d \\mathbf{x}}{dt}=M\\mathbf{x}}$, avec ${\\large \\mathbf{x}=(p,x)}$ et \n",
    "${\\large M=\\begin{pmatrix} \n",
    "0 & -K\\\\\n",
    "1/m & 0\\\\\n",
    "\\end{pmatrix}\n",
    "}$\n",
    "\n",
    "**Vérifier que le schéma Euler avant crée de l’énergie ; que l’Euler arrière en détruit ; et que seul l’Euler centré est conservatif. Illustrer ces propriétés en intégrant le système.**"
   ]
  },
  {
   "cell_type": "code",
   "execution_count": 78,
   "metadata": {},
   "outputs": [],
   "source": [
    "import numpy as np\n",
    "import matplotlib.pyplot as plt\n",
    "\n",
    "np.set_printoptions(precision=6)\n",
    "\n",
    "\n",
    "def HarmOsc(K,m,t,x0,mode):\n",
    "    k=t[1]-t[0]\n",
    "    x=np.zeros((2,np.shape(t)[0]))\n",
    "    x[:,0]=x0\n",
    "    M=np.array([[0,-K],[1/m,0]])\t\n",
    "    if mode=='Euler avant':\n",
    "        for i in range(np.shape(x)[1]-1):\n",
    "            M=np.array([[0,-K],[1/m,0]])\n",
    "            x[:,i+1]=(np.identity(2)+k*M).dot(x[:,i])\n",
    "    elif mode=='Euler arrière':\n",
    "        for i in range(np.shape(x)[1]-1):\n",
    "            M=np.array([[0,-K],[1/m,0]])\n",
    "            x[:,i+1]=np.linalg.solve((np.identity(2)-k*M),x[:,i])\n",
    "    elif mode=='Euler centré':\n",
    "        for i in range(np.shape(x)[1]-1):\n",
    "            M=np.array([[0,-K],[1/m,0]])\n",
    "            x[:,i+1]=np.linalg.solve((np.identity(2)-k/2*M),(np.identity(2)+k/2*M).dot(x[:,i]))\n",
    "    elif mode=='Leapfrog':\n",
    "        x[:,1]=x[:,0]\n",
    "        for i in range (1,np.shape(x)[1]-1):\n",
    "            x[:,i+1]=x[:,i-1]+2*k*M.dot(x[:,i])\n",
    "    elif mode=='Heun':\n",
    "        for i in range(np.shape(x)[1]-1):\n",
    "            xx=x[:,i]+k*M.dot(x[:,i])\n",
    "            x[:,i+1]=x[:,i]+(k/2)*(M.dot(x[:,i])+M.dot(xx))\n",
    "    elif mode=='RK4':\n",
    "        for i in range(np.shape(x)[1]-1):\n",
    "            k1=k*M.dot(x[:,i])\n",
    "            k2=k*M.dot(x[:,i]+k1/2)\n",
    "            k3=k*M.dot(x[:,i]+k2/2)\n",
    "            k4=k*M.dot(x[:,i]+k3)\n",
    "            x[:,i+1]=x[:,i]+(k1+2*k2+2*k3+k4)/6\n",
    "    elif mode=='Verlet':\n",
    "        for i in range(np.shape(x)[1]-1):\n",
    "            pp=x[0,i]-k*K*x[1,i]\n",
    "            x[1,i+1]=x[1,i]+(k/2)*(x[0,i]/m+pp/m)\n",
    "            x[0,i+1]=x[0,i]-(k/2)*(x[1,i]+x[1,i+1])\n",
    "    elif mode=='Stormer_Verlet':\n",
    "        for i in range(np.shape(x)[1]-1):\n",
    "            pp=x[0,i]-(k/2)*k*x[1,i]\n",
    "            x[1,i+1]=x[1,i]+(k)*(pp/m)\n",
    "            x[0,i+1]=pp-(k/2)*(x[1,i+1])\n",
    "    else:\n",
    "        print('Invalid integration method')\n",
    "    return(x)\n",
    "\n",
    "def Energie_calc(x,k,m):\n",
    "    return((x[0,:]*x[0,:])/(2*m)+k*(x[1,:]*x[1,:])/2)"
   ]
  },
  {
   "cell_type": "code",
   "execution_count": 43,
   "metadata": {},
   "outputs": [],
   "source": [
    "#paramètres du problème\n",
    "K=1.\n",
    "m=1.0\n",
    "#paramètre de l'intégration numérique\n",
    "k=0.1\n",
    "tmax=50\n",
    "N=int(np.floor(tmax/k))+1\n",
    "t=np.linspace(0,tmax,N)\n",
    "#Conditions initiales\n",
    "x0=[0,1]\n",
    "#Solution analytique\n",
    "omega=np.sqrt(K/m)\n",
    "xsol=np.zeros((2,N))\n",
    "xsol[1,:]=x0[1]*np.cos(omega*t)+x0[0]/(m*omega)*np.sin(omega*t)\n",
    "xsol[0,:]=(-x0[1]*omega*np.sin(omega*t)+x0[0]/(m*omega)*omega*np.cos(omega*t))*m\n",
    "\n",
    "x_EUav=HarmOsc(K,m,t,x0,'Euler avant')\n",
    "x_EUar=HarmOsc(K,m,t,x0,'Euler arrière')\n",
    "x_EUcen=HarmOsc(K,m,t,x0,'Euler centré')\n",
    "\n",
    "\n",
    "E_EUcen=Energie_calc(x_EUcen,K,m)\n",
    "E_EUar=Energie_calc(x_EUar,K,m)\n",
    "E_EUav=Energie_calc(x_EUav,K,m)\n",
    "Esol=Energie_calc(xsol,K,m)"
   ]
  },
  {
   "cell_type": "code",
   "execution_count": 47,
   "metadata": {},
   "outputs": [
    {
     "data": {
      "application/vnd.jupyter.widget-view+json": {
       "model_id": "f00f379c093f4dd09eb6aaed31d61075",
       "version_major": 2,
       "version_minor": 0
      },
      "text/plain": [
       "Canvas(toolbar=Toolbar(toolitems=[('Home', 'Reset original view', 'home', 'home'), ('Back', 'Back to previous …"
      ]
     },
     "metadata": {},
     "output_type": "display_data"
    }
   ],
   "source": [
    "%matplotlib widget\n",
    "import numpy as np\n",
    "import matplotlib.pyplot as plt\n",
    "fig,ax=plt.subplots(figsize=(10,10))\n",
    "ax.plot(xsol[1,:],xsol[0,:]/m,label='Theoretical',marker='o')\n",
    "ax.plot(x_EUav[1,:],x_EUav[0,:]/m,label='Euler avant')\n",
    "ax.plot(x_EUar[1,:],x_EUar[0,:]/m,label='Euler arrière')\n",
    "ax.plot(x_EUcen[1,:],x_EUcen[0,:]/m,label='Euler centré')\n",
    "ax.plot(x0[1],x0[0]/m,'ro')\n",
    "ax.legend(loc='best',fontsize='small')\n",
    "ax.set_xlabel('x')\n",
    "ax.set_ylabel('v')\n",
    "ax.set_title('Oscillateur harmonique, dt =%.3f'%(k))\n",
    "ax.set_xlim((-2,2))\n",
    "ax.set_ylim((-2,2))\n",
    "plt.show()\n"
   ]
  },
  {
   "cell_type": "code",
   "execution_count": 5,
   "metadata": {},
   "outputs": [
    {
     "data": {
      "application/vnd.jupyter.widget-view+json": {
       "model_id": "d7352d1efb904c6e8d6da792e8366ea5",
       "version_major": 2,
       "version_minor": 0
      },
      "text/plain": [
       "Canvas(toolbar=Toolbar(toolitems=[('Home', 'Reset original view', 'home', 'home'), ('Back', 'Back to previous …"
      ]
     },
     "metadata": {},
     "output_type": "display_data"
    }
   ],
   "source": [
    "%matplotlib widget\n",
    "fig,ax=plt.subplots(figsize=(10,10))\n",
    "ax.plot(t,E_Verl,label='Verlet')\n",
    "ax.plot(t,E_StVerl,label='Stormer_Verlet')\n",
    "ax.plot(t,E_Heun,label='Heun')\n",
    "ax.plot(t,E_RK4,label='RK4')\n",
    "ax.plot(t,E_EUcen,label='Euler centré',marker='D')\n",
    "ax.plot(t,E_EUav,label='Euler avant')\n",
    "ax.plot(t,E_EUar,label='Euler arrière')\n",
    "ax.plot(t,Esol,label='Theoretical')\n",
    "plt.ylim((0.45,0.525))\n",
    "plt.xlim((-1,50))\n",
    "plt.legend(loc='best',fontsize='small')\n",
    "plt.xlabel('t')\n",
    "plt.ylabel('Energie')\n",
    "plt.title('Oscillateur harmonique: dt= %.5f'%(dt))\n",
    "plt.show()"
   ]
  },
  {
   "cell_type": "markdown",
   "metadata": {},
   "source": [
    "# Exercice 6: Leap-frog\n",
    "\n",
    "On a montré que le schéma leap-frog est inconditionnellement instable pour la décroissance radioactive"
   ]
  },
  {
   "cell_type": "code",
   "execution_count": 76,
   "metadata": {},
   "outputs": [
    {
     "data": {
      "application/vnd.jupyter.widget-view+json": {
       "model_id": "1aa72e06fb2b4e7e9a12847fcff2ae5b",
       "version_major": 2,
       "version_minor": 0
      },
      "text/plain": [
       "Canvas(toolbar=Toolbar(toolitems=[('Home', 'Reset original view', 'home', 'home'), ('Back', 'Back to previous …"
      ]
     },
     "metadata": {},
     "output_type": "display_data"
    }
   ],
   "source": [
    "%matplotlib widget\n",
    "import numpy as np\n",
    "import matplotlib.pyplot as plt\n",
    "\n",
    "tmax=10\n",
    "k=0.1\n",
    "N=int(np.floor(tmax/k))+1\n",
    "t=np.linspace(0,tmax,N)\n",
    "u_LP=np.zeros(N)\n",
    "\n",
    "#CI\n",
    "u_LP[0]=1\n",
    "u_LP[1]=(1-k)*u_LP[0]\n",
    "\n",
    "for i in range(1,N-1):\n",
    "    u_LP[i+1]=u_LP[i-1]-2*k*u_LP[i]\n",
    "\n",
    "\n",
    "\n",
    "fig,ax=plt.subplots(figsize=(5,5))\n",
    "ax.plot(t,np.exp(-t))\n",
    "ax.plot(t,u_LP,'o',label='Leap-frog')\n",
    "ax.legend()\n",
    "ax.set_title('Décroissance radioactive')\n",
    "plt.show()\n",
    "\n"
   ]
  },
  {
   "cell_type": "markdown",
   "metadata": {},
   "source": [
    "# Exercice 7: Equation logistique\n",
    "\n",
    "L'équation logistique:\n",
    "\n",
    "${\\large \n",
    "\\begin{equation*}\n",
    "\\frac{dx}{dt}=\\lambda x(1-x), \\quad x_{0}=\\alpha\n",
    "\\end{equation*}}\n",
    "$\n",
    "\n",
    "a pour solution exacte:\n",
    "\n",
    "${\\large \\begin{equation*}\n",
    "x(t)=\\frac{\\alpha}{\\alpha +(1- \\alpha )e^{-\\lambda t}}\n",
    "\\end{equation*}}$\n",
    "\n",
    "**Comparer les erreurs des schémas explicites Euler avant, Heun et RK4 pour différents pas de temps.\n",
    "Le schéma Euler arrière peut s'établir analytiquement pour l'équation logistique, mais cela implique de résoudre, à chaque pas de temps, une équation du second degré, ... qui a donc deux solutions. Laquelle des deux retenirs?**"
   ]
  },
  {
   "cell_type": "code",
   "execution_count": 25,
   "metadata": {},
   "outputs": [],
   "source": [
    "def int_log(N,tmax,lmb,alpha,mode):\n",
    "    N=int(N)\n",
    "    t=np.linspace(0,tmax,N)\n",
    "    k=tmax/(float(N-1))\n",
    "    F=lambda z: lmb*z*(1.-z)\n",
    "    x=np.zeros(N)\n",
    "    x[0]=alpha\n",
    "    if mode=='Euler avant':\n",
    "        for i in range(N-1):\n",
    "            x[i+1]=x[i]+k*F(x[i])\n",
    "    elif mode=='Heun':\n",
    "        for i in range(N-1):\n",
    "            xx=x[i]+k*F(x[i])\n",
    "            x[i+1]=x[i]+(k/2)*(F(x[i])+F(xx))\n",
    "    elif mode=='RK4':\n",
    "        for i in range(N-1):\n",
    "            k1=k*F(x[i])\n",
    "            k2=k*F(x[i]+k1/2)\n",
    "            k3=k*F(x[i]+k2/2)\n",
    "            k4=k*F(x[i]+k3)\n",
    "            x[i+1]=x[i]+(k1+2*k2+2*k3+k4)/6\n",
    "    else:\n",
    "        print('Invalid integration method')\n",
    "    return(x,t)"
   ]
  },
  {
   "cell_type": "code",
   "execution_count": 38,
   "metadata": {},
   "outputs": [
    {
     "data": {
      "application/vnd.jupyter.widget-view+json": {
       "model_id": "45c7e007ddc14c54937bed7ea80699e9",
       "version_major": 2,
       "version_minor": 0
      },
      "text/plain": [
       "Canvas(toolbar=Toolbar(toolitems=[('Home', 'Reset original view', 'home', 'home'), ('Back', 'Back to previous …"
      ]
     },
     "metadata": {},
     "output_type": "display_data"
    }
   ],
   "source": [
    "lmb=1\n",
    "alpha=0.1\n",
    "tmax=10\n",
    "k=1\n",
    "N=int(np.floor(tmax/k))+1\n",
    "t=np.linspace(0,tmax,N)\n",
    "\n",
    "mode='Heun'\n",
    "sol=int_log(N,tmax,lmb,alpha,mode)\n",
    "\n",
    "\n",
    "fig,ax=plt.subplots(figsize=(5,5))\n",
    "ax.plot(np.linspace(0,tmax,1000),alpha/(alpha+(1.-alpha)*np.exp(-lmb*np.linspace(0,tmax,1000))))\n",
    "ax.plot(t,sol[0],'o',label=mode)\n",
    "ax.legend()\n",
    "ax.set_title('Equation logistique')\n",
    "plt.show()\n",
    "\n"
   ]
  },
  {
   "cell_type": "code",
   "execution_count": 91,
   "metadata": {},
   "outputs": [],
   "source": [
    "lmb=1\n",
    "alpha=0.1\n",
    "Nsim=6\n",
    "N=10**(np.linspace(2,7,Nsim))\n",
    "tmax=1\n",
    "diff_EUav=np.zeros(Nsim)\n",
    "diff_heun=np.zeros(Nsim)\n",
    "diff_RK4=np.zeros(Nsim)\n",
    "xexact=alpha/(alpha+(1.-alpha)*np.exp(-lmb*1.))\n",
    "for j in range(Nsim):\n",
    "    \n",
    "    x_EUav,t=int_log(N[j],tmax,lmb,alpha,'Euler avant')\n",
    "    x_heun,t=int_log(N[j],tmax,lmb,alpha,'Heun')\n",
    "    x_RK4,t=int_log(N[j],tmax,lmb,alpha,'RK4')\n",
    "    diff_EUav[j]=np.abs(xexact-x_EUav[-1])\n",
    "    diff_heun[j]=np.abs(xexact-x_heun[-1])\n",
    "    diff_RK4[j]=np.abs(xexact-x_RK4[-1])"
   ]
  },
  {
   "cell_type": "code",
   "execution_count": 92,
   "metadata": {},
   "outputs": [
    {
     "data": {
      "application/vnd.jupyter.widget-view+json": {
       "model_id": "407bbf692d984dbca829078e7fae5615",
       "version_major": 2,
       "version_minor": 0
      },
      "text/plain": [
       "Canvas(toolbar=Toolbar(toolitems=[('Home', 'Reset original view', 'home', 'home'), ('Back', 'Back to previous …"
      ]
     },
     "metadata": {},
     "output_type": "display_data"
    }
   ],
   "source": [
    "fig,ax=plt.subplots(figsize=(5,5))\n",
    "plt.loglog(N,diff_EUav,'bo',label='Euler avant')\n",
    "plt.loglog(N,diff_heun,'rD',label='Heun')\n",
    "plt.loglog(N,diff_RK4,'g^',label='RK4')\n",
    "plt.loglog(N,N**(-1)*(diff_EUav[0]/N[0]**(-1)),'b--',label='$1/k$')\n",
    "plt.loglog(N,(N)**(-2)*(diff_heun[0]/N[0]**(-2)),'r--',label='$1/k^{2}$')\n",
    "plt.loglog(N,N**(-4)*(diff_RK4[0]/N[0]**(-4)),'g--',label='$1/k^{4}$')\n",
    "plt.title('$|x(t) - x_{t/k}|,\\ t=1$')\n",
    "plt.xlabel('$1/k$')\n",
    "plt.legend(loc='best',fontsize='small')\n",
    "plt.ylim((10**(-16),10**(-1)))\n",
    "plt.show()"
   ]
  },
  {
   "cell_type": "markdown",
   "metadata": {},
   "source": [
    "# Exercice 8: Oscillateur harmonique symplectique"
   ]
  },
  {
   "cell_type": "code",
   "execution_count": 79,
   "metadata": {},
   "outputs": [],
   "source": [
    "#paramètres du problème\n",
    "K=1.\n",
    "m=1.0\n",
    "#paramètre de l'intégration numérique\n",
    "k=1\n",
    "T=500\n",
    "N=int(np.floor(T/k))+1\n",
    "t=np.linspace(0,T,N)\n",
    "#Conditions initiales\n",
    "x0=[0,1]\n",
    "#Solution analytique\n",
    "omega=np.sqrt(K/m)\n",
    "xsol=np.zeros((2,50000))\n",
    "xsol[1,:]=x0[1]*np.cos(omega*np.linspace(0,T,50000))+x0[0]/(m*omega)*np.sin(omega*np.linspace(0,T,50000))\n",
    "xsol[0,:]=(-x0[1]*omega*np.sin(omega*np.linspace(0,T,50000))+x0[0]/(m*omega)*omega*np.cos(omega*np.linspace(0,T,50000)))*m\n",
    "\n",
    "\n",
    "\n",
    "x_Verl=HarmOsc(K,m,t,x0,'Verlet')\n",
    "x_StVer=HarmOsc(K,m,t,x0,'Stormer_Verlet')\n",
    "x_Heun=HarmOsc(K,m,t,x0,'Heun')\n",
    "x_RK4=HarmOsc(K,m,t,x0,'RK4')\n",
    "E_Verl=Energie_calc(x_Verl,K,m)\n",
    "E_StVerl=Energie_calc(x_StVer,K,m)\n",
    "E_RK4=Energie_calc(x_RK4,K,m)\n",
    "E_Heun=Energie_calc(x_Heun,K,m)\n",
    "Esol=Energie_calc(xsol,K,m)\n"
   ]
  },
  {
   "cell_type": "code",
   "execution_count": 80,
   "metadata": {},
   "outputs": [
    {
     "data": {
      "application/vnd.jupyter.widget-view+json": {
       "model_id": "aef46e89553f4ffb9ef50c5a418714ba",
       "version_major": 2,
       "version_minor": 0
      },
      "text/plain": [
       "Canvas(toolbar=Toolbar(toolitems=[('Home', 'Reset original view', 'home', 'home'), ('Back', 'Back to previous …"
      ]
     },
     "metadata": {},
     "output_type": "display_data"
    }
   ],
   "source": [
    "fig,ax=plt.subplots(1,2,figsize=(10,5))\n",
    "ax[0].plot(xsol[1,:],xsol[0,:]/m,label='Theoretical')\n",
    "ax[0].plot(x_Heun[1,:],x_Heun[0,:]/m,label='Heun')\n",
    "ax[0].plot(x_Verl[1,:],x_Verl[0,:]/m,label='Verlet')\n",
    "ax[0].plot(x_RK4[1,:],x_RK4[0,:]/m,label='RK4')\n",
    "ax[0].plot(x0[1],x0[0]/m,'ko')\n",
    "ax[0].legend(loc='best',fontsize='small')\n",
    "ax[0].set_xlabel('x')\n",
    "ax[0].set_ylabel('v')\n",
    "ax[0].set_title('Oscillateur harmonique, k =%.3f'%(k))\n",
    "ax[0].set_xlim((-2,2))\n",
    "ax[0].set_ylim((-2,2))\n",
    "ax[1].plot(np.linspace(0,T,50000),Esol,label='Theoretical')\n",
    "ax[1].plot(t,E_Heun,label='Heun')\n",
    "ax[1].plot(t,E_Verl,label='Verlet')\n",
    "ax[1].plot(t,E_RK4,label='RK4')\n",
    "ax[1].legend(loc='best',fontsize='small')\n",
    "ax[1].set_xlabel('t')\n",
    "ax[1].set_ylabel('Energie')\n",
    "ax[1].set_title('Oscillateur harmonique, k =%.3f'%(k))\n",
    "ax[1].set_ylim((0.4,0.6))\n",
    "ax[1].set_xlim((1,50))\n",
    "plt.show()\n",
    "\n",
    "\n"
   ]
  },
  {
   "cell_type": "markdown",
   "metadata": {},
   "source": [
    "# Exercice 9: Couche limite\n",
    "\n",
    "Le système suivant illustre la notion de couche limite :\n",
    "    \n",
    "${\\large \\begin{equation*}\n",
    "\\epsilon \\frac{d^{2} y}{dx^{2}}-x^{2}\\frac{dy}{dx}-y=0, \\, 0<x<1, \\, \\epsilon =10^{-2},\n",
    "\\end{equation*}}$\n",
    "\n",
    "avec les conditions frontières: $y(0)=y(1)=1$.\n",
    "\n",
    "Condition d'unicité: $N>49$\n",
    "\n",
    "Système linéaire à résoudre:\n",
    "\n",
    "$\n",
    "A=\\begin{pmatrix}\n",
    "a_{1} & c_{1} & 0 &\\cdots & \\cdots &  0\\\\\n",
    "b_{2} & a_{2} & c_{2} & 0 & \\cdots & 0  \\\\\n",
    "0 & \\ddots & \\ddots & \\ddots &  \\ddots &\\vdots  \\\\\n",
    "\\vdots & \\ddots  & \\ddots & \\ddots & \\ddots & 0  \\\\\n",
    "0 & \\cdots  & 0& b_{N-1} & a_{N-1} & c_{N-1}  \\\\\n",
    "0 & \\cdots  & 0 & 0 & b_{N} & a_{N} \n",
    "\\end{pmatrix}\n",
    "\\begin{pmatrix}\n",
    "y_{1}\\\\\n",
    "y_{2}\\\\\n",
    "\\vdots\\\\\n",
    "y_{N-1}\\\\\n",
    "y_{N}\\\\\n",
    "\\end{pmatrix}\n",
    "=\\begin{pmatrix}\n",
    "-b_{1}\\\\\n",
    "0\\\\\n",
    "\\vdots\\\\\n",
    "0\\\\\n",
    "-c_{N}\\\\\n",
    "\\end{pmatrix}\n",
    "$\n",
    "\n",
    "avec\n",
    "\n",
    "$\n",
    "\\left\\{\n",
    "                \\begin{array}{ll}\n",
    "                  a_{i}=-2-\\frac{h^2}{\\epsilon}\\\\\n",
    "                  b_{i}=1+\\frac{hx_{i}^{2}}{2\\epsilon}\\\\\n",
    "                  c_{i}=1-\\frac{hx_{i}^{2}}{2\\epsilon}\n",
    "                \\end{array}\n",
    "              \\right.\n",
    "$\n",
    "\n",
    "\n",
    "\n",
    "Conditionnement de la matrice:"
   ]
  },
  {
   "cell_type": "code",
   "execution_count": 108,
   "metadata": {},
   "outputs": [
    {
     "name": "stdout",
     "output_type": "stream",
     "text": [
      "43421.22605507695\n"
     ]
    }
   ],
   "source": [
    "N=1\n",
    "eps=10**(-2)\n",
    "x=np.linspace(0.,1.,N+2)\n",
    "y=np.zeros(N+2)\n",
    "h=x[1]-x[0]\n",
    "ybound=[1,1]\n",
    "xbis=x[1:-1]\n",
    "a=-2.-(h**2)/eps*np.ones(N)\n",
    "b=1.+h*(xbis**2)/2./eps\n",
    "c=1.-h*(xbis**2)/2./eps\n",
    "A=np.diagflat(b[1:],-1)+np.diagflat(c[:-1],1)+np.diagflat(a)\n",
    "#print(A)\n",
    "w,v=np.linalg.eig(A.T@A)\n",
    "cond=np.sqrt(np.max(np.abs(w))/np.min(np.abs(w)))\n",
    "print(cond)"
   ]
  },
  {
   "cell_type": "code",
   "execution_count": 111,
   "metadata": {},
   "outputs": [],
   "source": [
    "\n",
    "import numpy as np\n",
    "import matplotlib.pyplot as plt\n",
    "\n",
    "\n",
    "def tridiag(a,b,c,f):\n",
    "    N=f.size\n",
    "    x=np.zeros(N)\n",
    "    cstar=np.zeros(N)\n",
    "    astar=a[0]\n",
    "    x[0]=f[0]/astar\n",
    "    for k in range(1,N):\n",
    "        cstar[k-1]=c[k-1]/astar\n",
    "        astar=a[k]-b[k]*cstar[k-1]\n",
    "        x[k]=(f[k]-b[k]*x[k-1])/astar\n",
    "    for k in range(N-2,-1,-1):\n",
    "        x[k]-=cstar[k]*x[k+1]\n",
    "    return(x)\n"
   ]
  },
  {
   "cell_type": "code",
   "execution_count": 115,
   "metadata": {},
   "outputs": [],
   "source": [
    "def c_lim(N):\n",
    "    eps=10**(-2)\n",
    "    x=np.linspace(0.,1.,N+2)\n",
    "    y=np.zeros(N+2)\n",
    "    h=x[1]-x[0]\n",
    "    ybound=[1,1]\n",
    "    xbis=x[1:-1]\n",
    "    a=-2.-(h**2)/eps*np.ones(N)\n",
    "    b=1.+h*(xbis**2)/2./eps\n",
    "    c=1.-h*(xbis**2)/2./eps\n",
    "    z=np.zeros(N)\n",
    "    z[0]=-b[0]*ybound[0]\n",
    "    z[-1]=-c[-1]*ybound[1]\n",
    "    y[1:-1]=tridiag(a,b,c,z)\n",
    "    y[0]=ybound[0]\n",
    "    y[-1]=ybound[1]\n",
    "    return(x,y,cond)\n"
   ]
  },
  {
   "cell_type": "code",
   "execution_count": 116,
   "metadata": {},
   "outputs": [],
   "source": [
    "x10,y10,cond10=c_lim(10)\n",
    "x20,y20,cond20=c_lim(20)\n",
    "x50,y50,cond50=c_lim(50)\n",
    "x120,y120,cond120=c_lim(120)\n",
    "\n"
   ]
  },
  {
   "cell_type": "code",
   "execution_count": 117,
   "metadata": {},
   "outputs": [
    {
     "data": {
      "application/vnd.jupyter.widget-view+json": {
       "model_id": "f9bfdb19861d4906bebfc36a0d8d1502",
       "version_major": 2,
       "version_minor": 0
      },
      "text/plain": [
       "Canvas(toolbar=Toolbar(toolitems=[('Home', 'Reset original view', 'home', 'home'), ('Back', 'Back to previous …"
      ]
     },
     "metadata": {},
     "output_type": "display_data"
    }
   ],
   "source": [
    "fig,ax=plt.subplots(figsize=(5,5))\n",
    "plt.plot(x10,y10,label='N=10',linestyle='--',marker='o',ms=7)\n",
    "plt.plot(x20,y20,label='N=20',linestyle='--',marker='v',ms=7)\n",
    "plt.plot(x50,y50,label='N=50',linestyle='--',marker='D',ms=7)\n",
    "plt.plot(x120,y120,label='N=120')\n",
    "plt.legend(loc='best',fontsize='small')\n",
    "plt.xlabel('x')\n",
    "plt.ylabel('y')\n",
    "plt.show()\n"
   ]
  },
  {
   "cell_type": "markdown",
   "metadata": {},
   "source": [
    "# Exercice 11: équation de Bratu\n",
    "\n",
    "Résoudre l'équation de Bratu ${\\large y'' = −e^y}$ , ${\\large 0 < x < 1}$, avec\n",
    "${\\large y (0) = y (1) = 0}$. Utiliser comme premier essai ${\\large y_{0}(x) = x − x^{2}}$ ;\n",
    "recommencez et utilisez ${\\large y_{0}(x) = 16(x − x^{2})}$. \n",
    "\n",
    "\n",
    ">**Newton-Raphson**\n",
    ">\n",
    ">Système d'équations non linéaires\n",
    ">\n",
    ">\n",
    ">${\\large \\mathbf{F}(\\mathbf{y})=\\mathbf{0}}$\n",
    ">\n",
    ">On a besoin de deux choses pour appliquer la méthode: ${\\large \\mathbf{y_{0}}}$ première estimation de la solution et ${\\large J}$ le jacobien de ${\\large >\\mathbf{F}(\\mathbf{y})}$\n",
    ">\n",
    ">Le schéma suivant doit converger vers la solution si le système est suffisamment régulier:\n",
    ">\n",
    ">${\\large \\mathbf{y}_{k+1} = \\mathbf{y}_{k} - J_{k}^{-1} \\mathbf{F}_{k} \\, \\Rightarrow \\, J_{k}\\mathbf{y}_{k+1}  =J_{k}\\mathbf{y}_{k}-\\mathbf{F}_{k} \\quad ,k=0,1,2,...}$\n",
    "\n",
    "\n",
    "\n"
   ]
  },
  {
   "cell_type": "code",
   "execution_count": 127,
   "metadata": {},
   "outputs": [],
   "source": [
    "def Jac(y,h):\n",
    "    N=y.size\n",
    "    J=np.zeros((N,N))\n",
    "    J[0,0]=-2.+(h**2)*np.exp(y[0])\n",
    "    J[-1,-1]=-2.+(h**2)*np.exp(y[-1])\n",
    "    J[0,1]=1.\n",
    "    J[-1,-2]=1.\n",
    "    for k in range(1,N-1):\n",
    "        J[k,k]=-2.+(h**2)*np.exp(y[k])\n",
    "        J[k,k-1]=1.\n",
    "        J[k,k+1]=1.\n",
    "    return(J)\n",
    "\n",
    "def Fk(z,h):\n",
    "    N=z.size\n",
    "    F=np.zeros(N)\n",
    "    F[0]=z[1]-2.*z[0]+(h**2)*np.exp(z[0])          # CF z_firstpoint=0\n",
    "    F[-1]=-2.*z[-1]+z[-2]+(h**2)*np.exp(z[-1])# CF z_lastpoint=0\n",
    "    for k in range(1,N-1):\n",
    "        F[k]=z[k+1]-2.*z[k]+z[k-1]+(h**2)*np.exp(z[k])\n",
    "    return(F)\n",
    "\n",
    "\n",
    "\n",
    "def bratu(N,N_it,x,Y0):\n",
    "    h=x[1]-x[0]\n",
    "    Y=np.zeros((N,N_it))\n",
    "    Y[:,0]=Y0\n",
    "    for k in range(1,N_it):\n",
    "        diag_J=-2.+(h**2)*np.exp(Y[:,k-1])\n",
    "        rhs=np.dot(Jac(Y[:,k-1],h),Y[:,k-1])-Fk(Y[:,k-1],h)\n",
    "        Y[:,k]=tridiag(diag_J,np.ones(N),np.ones(N),rhs)\n",
    "    return(np.append(np.insert(Y[:,-1],0,0.),0.))\n",
    "\n",
    "\n"
   ]
  },
  {
   "cell_type": "code",
   "execution_count": 135,
   "metadata": {},
   "outputs": [],
   "source": [
    "#paramètres d'intégration\n",
    "N=10\n",
    "N_int=5\n",
    "x=np.linspace(0.,1,N+2)\n",
    "\n",
    "#Solutions analytiques\n",
    "c1=0.379\n",
    "Y_anal1=-2.*np.log(np.cosh(c1*(1.-2.*x))/np.cosh(c1))\n",
    "c2=2.73;\n",
    "Y_anal2=-2.*np.log(np.cosh(c2*(1.-2.*x))/np.cosh(c2))\n",
    "\n",
    "#Intégration numérique\n",
    "Y1=bratu(N,N_int,x,Y0=(x[1:-1]-x[1:-1]**2))\n",
    "Y2=bratu(N,N_int,x,Y0=16.*(x[1:-1]-x[1:-1]**2))"
   ]
  },
  {
   "cell_type": "code",
   "execution_count": 137,
   "metadata": {},
   "outputs": [
    {
     "data": {
      "application/vnd.jupyter.widget-view+json": {
       "model_id": "bdc981d483764bb08b286c384e758c9e",
       "version_major": 2,
       "version_minor": 0
      },
      "text/plain": [
       "Canvas(toolbar=Toolbar(toolitems=[('Home', 'Reset original view', 'home', 'home'), ('Back', 'Back to previous …"
      ]
     },
     "metadata": {},
     "output_type": "display_data"
    }
   ],
   "source": [
    "fig,ax=plt.subplots(figsize=(7,7))\n",
    "ax.plot(x,Y1,'^b',ms=7,label='$y_0=(x-x^2)$')\n",
    "ax.plot(x,Y2,'^r',ms=7,label='$y_0=16(x-x^2)$')\n",
    "ax.plot(x,Y_anal1,'b',label='$c=0.379$')\n",
    "ax.plot(x,Y_anal2,'r',label='$c=2.73$')\n",
    "ax.legend(loc='best',fontsize='small')\n",
    "ax.set_xlabel('x')\n",
    "ax.set_ylabel('y')\n",
    "plt.show()"
   ]
  },
  {
   "cell_type": "markdown",
   "metadata": {},
   "source": [
    "# Exercice 14: équation de la chaleur\n",
    "\n",
    "${\\large \\frac{\\partial u}{\\partial t}= \\frac{\\partial^2 u}{\\partial x^2}}$ pour $0<x<1$\n",
    "\n",
    "CF: $u(0,t)=u(0,t)=0$\n",
    "\n",
    "CI: $g(x)= \\begin{cases}\n",
    " 1  \\quad a \\leq x \\leq b \\\\\n",
    " 0  \\quad \\mbox{sinon} \\end{cases}$"
   ]
  },
  {
   "cell_type": "code",
   "execution_count": 53,
   "metadata": {},
   "outputs": [],
   "source": [
    "%matplotlib widget\n",
    "import numpy as np\n",
    "import matplotlib.pyplot as plt\n",
    "\n",
    "def Create_Init(x,x1,x2,yy):\n",
    "    y=np.zeros(np.size(x))\n",
    "    for i in range(np.size(x)):\n",
    "        if x[i]>x1 and x[i]<x2:\n",
    "            y[i]=yy\n",
    "    return(y)\n",
    "\n",
    "def tridiag(a,b,c,f):\n",
    "    N=f.size\n",
    "    x=np.zeros(N)\n",
    "    cstar=np.zeros(N)\n",
    "    astar=a[0]\n",
    "    x[0]=f[0]/astar\n",
    "    for k in range(1,N):\n",
    "        cstar[k-1]=c[k-1]/astar\n",
    "        astar=a[k]-b[k]*cstar[k-1]\n",
    "        x[k]=(f[k]-b[k]*x[k-1])/astar\n",
    "    for k in range(N-2,-1,-1):\n",
    "        x[k]-=cstar[k]*x[k+1]\n",
    "    return(x)\n",
    "\n",
    "\n",
    "def EulAvant(U0,x,tmax,lmb,bc):\n",
    "    h=x[1]-x[0]\n",
    "    k=lmb*h**2\n",
    "    M=int(np.round(tmax/k))+1\n",
    "    t=np.linspace(0.,tmax,M)\n",
    "    k=tmax/(M-1)\n",
    "    lmb=k/h**(2)\n",
    "    U=np.zeros((N+2,np.shape(t)[0]))\n",
    "    U[:,0]=U0\n",
    "    A=np.diagflat(lmb*np.ones(N-1),-1)+np.diagflat(-(2*lmb+B*k)*np.ones(N))+np.diagflat(+lmb*np.ones(N-1),1)\n",
    "    for i in range(np.shape(t)[0]-1):\n",
    "        Uc = U[1:-1,i]\n",
    "        U[1:-1,i+1]=Uc+A@Uc\n",
    "        U[0,i+1]=bc[0]\n",
    "        U[-1,i+1]=bc[1]\n",
    "    return(U,lmb,t)\n",
    "\n",
    "def EulArriere(U0,x,tmax,lmb,bc):\n",
    "    N=np.shape(x)[0]-2\n",
    "    h=x[1]-x[0]\n",
    "    k=lmb*h**2\n",
    "    M=int(np.round(tmax/k))+1\n",
    "    t=np.linspace(0.,tmax,M)\n",
    "    k=t[1]-t[0]\n",
    "    lmb=k/h**(2)\n",
    "    U=np.zeros((N+2,np.shape(t)[0]))\n",
    "    U[:,0]=U0\n",
    "    a=(1+2*lmb)*np.ones(N)\n",
    "    b=-lmb*np.ones(N)\n",
    "    c=-lmb*np.ones(N)\n",
    "    for i in range(np.shape(t)[0]-1):\n",
    "        Uc = U[1:-1,i]\n",
    "        U[1:-1,i+1]=tridiag(a,b,c,Uc)\n",
    "        U[0,i+1]=bc[0]\n",
    "        U[-1,i+1]=bc[1]\n",
    "    return(U,lmb,t)\n",
    "\n",
    "def CrNich(U0,x,tmax,lmb,bc):\n",
    "    N=np.shape(x)[0]-2\n",
    "    h=x[1]-x[0]\n",
    "    k=lmb*h**2\n",
    "    M=int(np.round(tmax/k))+1\n",
    "    t=np.linspace(0.,tmax,M)\n",
    "    k=t[1]-t[0]\n",
    "    lmb=k/h**(2)\n",
    "    U=np.zeros((N+2,np.shape(t)[0]))\n",
    "    U[:,0]=U0\n",
    "    B_u=np.diagflat(-lmb*np.ones(N-1),-1)+np.diagflat(-2*(1-lmb)*np.ones(N))+np.diagflat(-lmb*np.ones(N-1),1)\n",
    "    a=-2*(1+lmb)*np.ones(N)\n",
    "    b=lmb*np.ones(N)\n",
    "    c=lmb*np.ones(N)\n",
    "    for i in range(np.shape(t)[0]-1):\n",
    "        Uc = U[1:-1,i]\n",
    "        U[1:-1,i+1]=tridiag(a,b,c,B_u.dot(Uc))\n",
    "        U[0,i+1]=bc[0]\n",
    "        U[-1,i+1]=bc[1]\n",
    "    return(U,lmb,t)"
   ]
  },
  {
   "cell_type": "code",
   "execution_count": 54,
   "metadata": {},
   "outputs": [],
   "source": [
    "#Paramètres d'intégration numérique\n",
    "N=12\n",
    "x=np.linspace(0.,1.,N+2)\n",
    "tmax=0.1\n",
    "#Conditions frontières\n",
    "bc=[0,0]\n",
    "#Conditions initiales\n",
    "a=1./4.\n",
    "b=3./4.\n",
    "U0_carre=Create_Init(x,a,b,1)\n",
    "U0_sinus=np.sin(2*np.pi*x)\n",
    "lmb=2.5\n",
    "\n",
    "EAv_carre=EulAvant(U0_carre,x,tmax,lmb,bc)\n",
    "EAr_carre=EulArriere(U0_carre,x,tmax,lmb,bc)\n",
    "CN_carre=CrNich(U0_carre,x,tmax,lmb,bc)\n",
    "\n",
    "EAv_sinus=EulAvant(U0_sinus,x,tmax,lmb,bc)\n",
    "EAr_sinus=EulArriere(U0_sinus,x,tmax,lmb,bc)\n",
    "CN_sinus=CrNich(U0_sinus,x,tmax,lmb,bc)\n"
   ]
  },
  {
   "cell_type": "code",
   "execution_count": 55,
   "metadata": {},
   "outputs": [],
   "source": [
    "#Solution analytique pour condition initiale carré et sinusoidal\n",
    "t=EAv_carre[2]\n",
    "xsol=np.linspace(0,1,100)\n",
    "Sol_carre=np.zeros((100,np.shape(t)[0]))\n",
    "Sol_sinus=np.zeros((100,np.shape(t)[0]))\n",
    "for i in range(np.shape(t)[0]):\n",
    "    for p in range(1,101):\n",
    "        lambdap=float(p)*np.pi\n",
    "        Ap=(2./(lambdap))*(np.cos(lambdap*a)-np.cos(lambdap*b))\n",
    "        Sol_carre[:,i]+=Ap*np.exp(-lambdap**2*t[i])*np.sin(lambdap*xsol)\n",
    "        Sol_sinus[:,i]=np.sin(2*np.pi*xsol)*np.exp(-(2*np.pi)**2*t[i])\n",
    "\n"
   ]
  },
  {
   "cell_type": "code",
   "execution_count": 52,
   "metadata": {},
   "outputs": [
    {
     "data": {
      "application/vnd.jupyter.widget-view+json": {
       "model_id": "f7f507a008b948bba1e5e6645a86aec1",
       "version_major": 2,
       "version_minor": 0
      },
      "text/plain": [
       "Canvas(toolbar=Toolbar(toolitems=[('Home', 'Reset original view', 'home', 'home'), ('Back', 'Back to previous …"
      ]
     },
     "metadata": {},
     "output_type": "display_data"
    }
   ],
   "source": [
    "M=t.shape[0]\n",
    "Mspan=[0,0.25,0.5,0.75,0.99]\n",
    "fig,ax=plt.subplots(2,5,figsize=(15,10))\n",
    "for i in range(len(Mspan)):\n",
    "    n=int(np.floor(M*Mspan[i]))\n",
    "    ax[0,i].plot(xsol,Sol_carre[:,n],label='exact')\n",
    "    ax[0,i].plot(x,EAv_carre[0][:,n],label='Euler avant',marker='^')\n",
    "    ax[0,i].plot(x,EAr_carre[0][:,n],label='Euler arrière',marker='^')\n",
    "    ax[0,i].plot(x,CN_carre[0][:,n],label='Crank-Nicholson',marker='^')\n",
    "    ax[0,i].legend(loc='best',fontsize='small')\n",
    "    ax[0,i].set_xlabel('x')\n",
    "    #ax[i].set_ylabel('u')\n",
    "    ax[0,i].set_ylim((0.,1.2))\n",
    "    ax[0,i].set_title('time=%.2f, lambda=%.2f'%(EAv_carre[2][n],EAv_carre[1]))\n",
    "    ax[1,i].plot(xsol,Sol_sinus[:,n],label='exact')\n",
    "    ax[1,i].plot(x,EAv_sinus[0][:,n],label='Euler avant',marker='^')\n",
    "    ax[1,i].plot(x,EAr_sinus[0][:,n],label='Euler arrière',marker='^')\n",
    "    ax[1,i].plot(x,CN_sinus[0][:,n],label='Crank-Nicholson',marker='^')\n",
    "    ax[1,i].legend(loc='best',fontsize='small')\n",
    "    ax[1,i].set_xlabel('x')\n",
    "    #ax[i].set_ylabel('u')\n",
    "    ax[1,i].set_ylim((-1.2,1.2))\n",
    "    ax[1,i].set_title('time=%.2f, lambda=%.2f'%(EAv_sinus[2][n],EAv_sinus[1]))\n",
    "plt.show()"
   ]
  },
  {
   "cell_type": "markdown",
   "metadata": {},
   "source": [
    "# Diffusion radioactive\n",
    "\n",
    "${\\large\\frac{\\partial u}{\\partial t}=D \\frac{\\partial^{2}u}{\\partial x^{2}}-bu}$, où $D$, $b$ sont des constantes positives, $u(0,t)=u(1,t)=0$ et $u(x,0)=g(x)$."
   ]
  },
  {
   "cell_type": "code",
   "execution_count": 1,
   "metadata": {},
   "outputs": [],
   "source": [
    "%matplotlib widget\n",
    "import numpy as np\n",
    "import matplotlib.pyplot as plt\n",
    "\n",
    "def Create_Init(x,x1,x2,yy):\n",
    "    y=np.zeros(np.size(x))\n",
    "    for i in range(np.size(x)):\n",
    "        if x[i]>x1 and x[i]<x2:\n",
    "            y[i]=yy\n",
    "    return(y)\n",
    "\n",
    "def tridiag(a,b,c,f):\n",
    "    N=f.size\n",
    "    x=np.zeros(N)\n",
    "    cstar=np.zeros(N)\n",
    "    astar=a[0]\n",
    "    x[0]=f[0]/astar\n",
    "    for k in range(1,N):\n",
    "        cstar[k-1]=c[k-1]/astar\n",
    "        astar=a[k]-b[k]*cstar[k-1]\n",
    "        x[k]=(f[k]-b[k]*x[k-1])/astar\n",
    "    for k in range(N-2,-1,-1):\n",
    "        x[k]-=cstar[k]*x[k+1]\n",
    "    return(x)\n",
    "\n",
    "\n",
    "\n",
    "def EulArriere(U0,x,h,N,tmax,k,M,B,D,bc):\n",
    "    t=np.linspace(0,tmax,M)\n",
    "    U=np.zeros((np.shape(x)[0],np.shape(t)[0]))\n",
    "    U[:,0]=U0\n",
    "    lmb=D*k/h**2\n",
    "    a=(1+2*lmb+B*k)*np.ones(N)\n",
    "    b=-lmb*np.ones(N)\n",
    "    c=-lmb*np.ones(N)\n",
    "    for i in range(M-1):\n",
    "        Uc = U[1:-1,i]\n",
    "        U[1:-1,i+1]=tridiag(a,b,c,Uc)\n",
    "        U[0,i+1]=bc[0]\n",
    "    U[-1,i+1]=bc[1]\n",
    "    return(U,t,lmb)\n",
    "\n",
    "def CrNich(U0,x,h,N,T,k,M,B,D,bc):\n",
    "    t=np.linspace(0,T,M)\n",
    "    U=np.zeros((np.shape(x)[0],np.shape(t)[0]))\n",
    "    U[:,0]=U0\n",
    "    lmb=D*k/h**2\n",
    "    B_u=np.diagflat(-lmb*np.ones(N-1),-1)+np.diagflat(-(2-2*lmb-B*k)*np.ones(N))+np.diagflat(-lmb*np.ones(N-1),1)\n",
    "    a=-(2+2*lmb+B*k)*np.ones(N)\n",
    "    b=lmb*np.ones(N)\n",
    "    c=lmb*np.ones(N)\n",
    "    for i in range(M-1):\n",
    "        Uc = U[1:-1,i]\n",
    "        U[1:-1,i+1]=tridiag(a,b,c,B_u.dot(Uc))\n",
    "        U[0,i+1]=bc[0]\n",
    "    U[-1,i+1]=bc[1]\n",
    "    return(U,t,lmb)\n",
    "\n",
    "def EulAvant(U0,x,h,N,T,k,M,B,D,bc):\n",
    "    t=np.linspace(0,T,M)\n",
    "    U=np.zeros((np.shape(x)[0],np.shape(t)[0]))\n",
    "    U[:,0]=U0\n",
    "    lmb=D*k/h**2\n",
    "    A=np.diagflat(lmb*np.ones(N-1),-1)+np.diagflat(-(2*lmb+B*k)*np.ones(N))+np.diagflat(+lmb*np.ones(N-1),1)\n",
    "    for i in range(M-1):\n",
    "        Uc = U[1:-1,i]\n",
    "        U[1:-1,i+1]=Uc+A@Uc\n",
    "        #(-B*Uc+D*laplU)\n",
    "        U[0,i+1]=bc[0]\n",
    "    U[-1,i+1]=bc[1]\n",
    "    return(U,t,lmb)\n",
    "\n"
   ]
  },
  {
   "cell_type": "code",
   "execution_count": 8,
   "metadata": {},
   "outputs": [],
   "source": [
    "#Paramètres du problème\n",
    "L=1.\n",
    "tmax=0.5\n",
    "B=1\n",
    "D=1\n",
    "\n",
    "#Discrétisation temporelle\n",
    "M=101\n",
    "k=tmax/(M-1)\n",
    "\n",
    "#Discrétisation spatiale\n",
    "L=1\n",
    "N=9\n",
    "h=L/(N+1)\n",
    "x=np.linspace(0,1,N+2)\n",
    "\n",
    "#Condition initiale et frontières\n",
    "U0=np.sin(np.pi*x)\n",
    "bc=[0,0]\n",
    "\n",
    "\n",
    "\n",
    "\n",
    "EAv=EulAvant(U0,x,h,N,tmax,k,M,B,D,bc)\n",
    "EAr=EulArriere(U0,x,h,N,tmax,k,M,B,D,bc)\n",
    "CN=CrNich(U0,x,h,N,tmax,k,M,B,D,bc)\n",
    "\n",
    "t=EAv[1]\n",
    "#Solution analytique\n",
    "xsol=np.linspace(0,1,10000)\n",
    "Sol=np.zeros((10000,np.shape(t)[0]))\n",
    "for i in range(np.shape(t)[0]):\t\n",
    "    Sol[:,i]=np.sin(np.pi*xsol)*np.exp((-(B+(np.pi)**2*D)*t[i]))\n",
    "\n"
   ]
  },
  {
   "cell_type": "code",
   "execution_count": 9,
   "metadata": {},
   "outputs": [
    {
     "data": {
      "application/vnd.jupyter.widget-view+json": {
       "model_id": "966cb8da53b24c1b97e4eb5719a2962e",
       "version_major": 2,
       "version_minor": 0
      },
      "text/plain": [
       "Canvas(toolbar=Toolbar(toolitems=[('Home', 'Reset original view', 'home', 'home'), ('Back', 'Back to previous …"
      ]
     },
     "metadata": {},
     "output_type": "display_data"
    }
   ],
   "source": [
    "M=t.shape[0]\n",
    "Mspan=[0,0.25,0.5,0.75,0.99]\n",
    "fig,ax=plt.subplots(1,5,figsize=(15,5))\n",
    "for i in range(len(Mspan)):\n",
    "    n=int(np.floor(M*Mspan[i]))\n",
    "    ax[i].plot(xsol,Sol[:,n],label='exact')\n",
    "    ax[i].plot(x,EAv[0][:,n],label='Euler avant',marker='^')\n",
    "    ax[i].plot(x,EAr[0][:,n],label='Euler arrière',marker='^')\n",
    "    ax[i].plot(x,CN[0][:,n],label='Crank-Nicholson',marker='^')\n",
    "    ax[i].legend(loc='best',fontsize='small')\n",
    "    ax[i].set_xlabel('x')\n",
    "    #ax[i].set_ylabel('u')\n",
    "    ax[i].set_ylim((-0.1,1.2))\n",
    "    ax[i].set_title('time=%.2f, lambda= %.2f'%(EAv[1][n],EAv[2]))\n"
   ]
  },
  {
   "cell_type": "code",
   "execution_count": 10,
   "metadata": {},
   "outputs": [
    {
     "name": "stdout",
     "output_type": "stream",
     "text": [
      "[0.5, 0.4, 0.1]\n"
     ]
    }
   ],
   "source": [
    "M=[37,297]\n",
    "N=[9,13]\n",
    "M=[101,(5/4)*(101-1)+1,(5/1)*(101-1)+1]\n",
    "N=[9,9,9]\n",
    "lamb0=[D*(tmax/(M[0]-1))*(N[0]+1)**2,D*(tmax/(M[1]-1))*(N[1]+1)**2,D*(tmax/(M[2]-1))*(N[2]+1)**2]\n",
    "print(lamb0)\n",
    "\n",
    "#for j in range(2):\n",
    "#    for i in range(4):\n",
    "#        N[j]=2*N[j]+1\n",
    "#        M[j]=4*M[j]-3\n",
    "#        print(N[j])\n",
    "#        print(M[j])\n",
    "#       print(D*(tmax/(M[j]-1))*(N[j]+1)**2)"
   ]
  },
  {
   "cell_type": "code",
   "execution_count": 19,
   "metadata": {},
   "outputs": [
    {
     "ename": "KeyboardInterrupt",
     "evalue": "",
     "output_type": "error",
     "traceback": [
      "\u001b[0;31m---------------------------------------------------------------------------\u001b[0m",
      "\u001b[0;31mKeyboardInterrupt\u001b[0m                         Traceback (most recent call last)",
      "\u001b[0;32m<ipython-input-19-8bf82eebb00b>\u001b[0m in \u001b[0;36m<module>\u001b[0;34m\u001b[0m\n\u001b[1;32m     24\u001b[0m         \u001b[0;31m#Intégration\u001b[0m\u001b[0;34m\u001b[0m\u001b[0;34m\u001b[0m\u001b[0;34m\u001b[0m\u001b[0m\n\u001b[1;32m     25\u001b[0m         \u001b[0mU_EAv\u001b[0m\u001b[0;34m=\u001b[0m\u001b[0mEulAvant\u001b[0m\u001b[0;34m(\u001b[0m\u001b[0mU0\u001b[0m\u001b[0;34m,\u001b[0m\u001b[0mx\u001b[0m\u001b[0;34m,\u001b[0m\u001b[0mh\u001b[0m\u001b[0;34m,\u001b[0m\u001b[0mN\u001b[0m\u001b[0;34m[\u001b[0m\u001b[0mj\u001b[0m\u001b[0;34m]\u001b[0m\u001b[0;34m,\u001b[0m\u001b[0mtmax\u001b[0m\u001b[0;34m,\u001b[0m\u001b[0mk\u001b[0m\u001b[0;34m,\u001b[0m\u001b[0mnp\u001b[0m\u001b[0;34m.\u001b[0m\u001b[0mint\u001b[0m\u001b[0;34m(\u001b[0m\u001b[0mM\u001b[0m\u001b[0;34m[\u001b[0m\u001b[0mj\u001b[0m\u001b[0;34m]\u001b[0m\u001b[0;34m)\u001b[0m\u001b[0;34m,\u001b[0m\u001b[0mB\u001b[0m\u001b[0;34m,\u001b[0m\u001b[0mD\u001b[0m\u001b[0;34m,\u001b[0m\u001b[0mbc\u001b[0m\u001b[0;34m)\u001b[0m\u001b[0;34m\u001b[0m\u001b[0;34m\u001b[0m\u001b[0m\n\u001b[0;32m---> 26\u001b[0;31m         \u001b[0mU_EAr\u001b[0m\u001b[0;34m=\u001b[0m\u001b[0mEulArriere\u001b[0m\u001b[0;34m(\u001b[0m\u001b[0mU0\u001b[0m\u001b[0;34m,\u001b[0m\u001b[0mx\u001b[0m\u001b[0;34m,\u001b[0m\u001b[0mh\u001b[0m\u001b[0;34m,\u001b[0m\u001b[0mN\u001b[0m\u001b[0;34m[\u001b[0m\u001b[0mj\u001b[0m\u001b[0;34m]\u001b[0m\u001b[0;34m,\u001b[0m\u001b[0mtmax\u001b[0m\u001b[0;34m,\u001b[0m\u001b[0mk\u001b[0m\u001b[0;34m,\u001b[0m\u001b[0mnp\u001b[0m\u001b[0;34m.\u001b[0m\u001b[0mint\u001b[0m\u001b[0;34m(\u001b[0m\u001b[0mM\u001b[0m\u001b[0;34m[\u001b[0m\u001b[0mj\u001b[0m\u001b[0;34m]\u001b[0m\u001b[0;34m)\u001b[0m\u001b[0;34m,\u001b[0m\u001b[0mB\u001b[0m\u001b[0;34m,\u001b[0m\u001b[0mD\u001b[0m\u001b[0;34m,\u001b[0m\u001b[0mbc\u001b[0m\u001b[0;34m)\u001b[0m\u001b[0;34m\u001b[0m\u001b[0;34m\u001b[0m\u001b[0m\n\u001b[0m\u001b[1;32m     27\u001b[0m         \u001b[0;31m#U_CN=CrNich(U0,x,h,N[j],tmax,k,np.int(M[j]),B,D,bc)\u001b[0m\u001b[0;34m\u001b[0m\u001b[0;34m\u001b[0m\u001b[0;34m\u001b[0m\u001b[0m\n\u001b[1;32m     28\u001b[0m         \u001b[0mErr_EAv\u001b[0m\u001b[0;34m[\u001b[0m\u001b[0mj\u001b[0m\u001b[0;34m]\u001b[0m\u001b[0;34m.\u001b[0m\u001b[0mappend\u001b[0m\u001b[0;34m(\u001b[0m\u001b[0mnp\u001b[0m\u001b[0;34m.\u001b[0m\u001b[0mlinalg\u001b[0m\u001b[0;34m.\u001b[0m\u001b[0mnorm\u001b[0m\u001b[0;34m(\u001b[0m\u001b[0mSol\u001b[0m\u001b[0;34m-\u001b[0m\u001b[0mU_EAv\u001b[0m\u001b[0;34m[\u001b[0m\u001b[0;36m0\u001b[0m\u001b[0;34m]\u001b[0m\u001b[0;34m[\u001b[0m\u001b[0;34m:\u001b[0m\u001b[0;34m,\u001b[0m\u001b[0;34m-\u001b[0m\u001b[0;36m1\u001b[0m\u001b[0;34m]\u001b[0m\u001b[0;34m)\u001b[0m\u001b[0;34m)\u001b[0m\u001b[0;34m\u001b[0m\u001b[0;34m\u001b[0m\u001b[0m\n",
      "\u001b[0;32m<ipython-input-1-fe1b6fedfcf4>\u001b[0m in \u001b[0;36mEulArriere\u001b[0;34m(U0, x, h, N, tmax, k, M, B, D, bc)\u001b[0m\n\u001b[1;32m     36\u001b[0m     \u001b[0;32mfor\u001b[0m \u001b[0mi\u001b[0m \u001b[0;32min\u001b[0m \u001b[0mrange\u001b[0m\u001b[0;34m(\u001b[0m\u001b[0mM\u001b[0m\u001b[0;34m-\u001b[0m\u001b[0;36m1\u001b[0m\u001b[0;34m)\u001b[0m\u001b[0;34m:\u001b[0m\u001b[0;34m\u001b[0m\u001b[0;34m\u001b[0m\u001b[0m\n\u001b[1;32m     37\u001b[0m         \u001b[0mUc\u001b[0m \u001b[0;34m=\u001b[0m \u001b[0mU\u001b[0m\u001b[0;34m[\u001b[0m\u001b[0;36m1\u001b[0m\u001b[0;34m:\u001b[0m\u001b[0;34m-\u001b[0m\u001b[0;36m1\u001b[0m\u001b[0;34m,\u001b[0m\u001b[0mi\u001b[0m\u001b[0;34m]\u001b[0m\u001b[0;34m\u001b[0m\u001b[0;34m\u001b[0m\u001b[0m\n\u001b[0;32m---> 38\u001b[0;31m         \u001b[0mU\u001b[0m\u001b[0;34m[\u001b[0m\u001b[0;36m1\u001b[0m\u001b[0;34m:\u001b[0m\u001b[0;34m-\u001b[0m\u001b[0;36m1\u001b[0m\u001b[0;34m,\u001b[0m\u001b[0mi\u001b[0m\u001b[0;34m+\u001b[0m\u001b[0;36m1\u001b[0m\u001b[0;34m]\u001b[0m\u001b[0;34m=\u001b[0m\u001b[0mtridiag\u001b[0m\u001b[0;34m(\u001b[0m\u001b[0ma\u001b[0m\u001b[0;34m,\u001b[0m\u001b[0mb\u001b[0m\u001b[0;34m,\u001b[0m\u001b[0mc\u001b[0m\u001b[0;34m,\u001b[0m\u001b[0mUc\u001b[0m\u001b[0;34m)\u001b[0m\u001b[0;34m\u001b[0m\u001b[0;34m\u001b[0m\u001b[0m\n\u001b[0m\u001b[1;32m     39\u001b[0m         \u001b[0mU\u001b[0m\u001b[0;34m[\u001b[0m\u001b[0;36m0\u001b[0m\u001b[0;34m,\u001b[0m\u001b[0mi\u001b[0m\u001b[0;34m+\u001b[0m\u001b[0;36m1\u001b[0m\u001b[0;34m]\u001b[0m\u001b[0;34m=\u001b[0m\u001b[0mbc\u001b[0m\u001b[0;34m[\u001b[0m\u001b[0;36m0\u001b[0m\u001b[0;34m]\u001b[0m\u001b[0;34m\u001b[0m\u001b[0;34m\u001b[0m\u001b[0m\n\u001b[1;32m     40\u001b[0m     \u001b[0mU\u001b[0m\u001b[0;34m[\u001b[0m\u001b[0;34m-\u001b[0m\u001b[0;36m1\u001b[0m\u001b[0;34m,\u001b[0m\u001b[0mi\u001b[0m\u001b[0;34m+\u001b[0m\u001b[0;36m1\u001b[0m\u001b[0;34m]\u001b[0m\u001b[0;34m=\u001b[0m\u001b[0mbc\u001b[0m\u001b[0;34m[\u001b[0m\u001b[0;36m1\u001b[0m\u001b[0;34m]\u001b[0m\u001b[0;34m\u001b[0m\u001b[0;34m\u001b[0m\u001b[0m\n",
      "\u001b[0;32m<ipython-input-1-fe1b6fedfcf4>\u001b[0m in \u001b[0;36mtridiag\u001b[0;34m(a, b, c, f)\u001b[0m\n\u001b[1;32m     19\u001b[0m         \u001b[0mcstar\u001b[0m\u001b[0;34m[\u001b[0m\u001b[0mk\u001b[0m\u001b[0;34m-\u001b[0m\u001b[0;36m1\u001b[0m\u001b[0;34m]\u001b[0m\u001b[0;34m=\u001b[0m\u001b[0mc\u001b[0m\u001b[0;34m[\u001b[0m\u001b[0mk\u001b[0m\u001b[0;34m-\u001b[0m\u001b[0;36m1\u001b[0m\u001b[0;34m]\u001b[0m\u001b[0;34m/\u001b[0m\u001b[0mastar\u001b[0m\u001b[0;34m\u001b[0m\u001b[0;34m\u001b[0m\u001b[0m\n\u001b[1;32m     20\u001b[0m         \u001b[0mastar\u001b[0m\u001b[0;34m=\u001b[0m\u001b[0ma\u001b[0m\u001b[0;34m[\u001b[0m\u001b[0mk\u001b[0m\u001b[0;34m]\u001b[0m\u001b[0;34m-\u001b[0m\u001b[0mb\u001b[0m\u001b[0;34m[\u001b[0m\u001b[0mk\u001b[0m\u001b[0;34m]\u001b[0m\u001b[0;34m*\u001b[0m\u001b[0mcstar\u001b[0m\u001b[0;34m[\u001b[0m\u001b[0mk\u001b[0m\u001b[0;34m-\u001b[0m\u001b[0;36m1\u001b[0m\u001b[0;34m]\u001b[0m\u001b[0;34m\u001b[0m\u001b[0;34m\u001b[0m\u001b[0m\n\u001b[0;32m---> 21\u001b[0;31m         \u001b[0mx\u001b[0m\u001b[0;34m[\u001b[0m\u001b[0mk\u001b[0m\u001b[0;34m]\u001b[0m\u001b[0;34m=\u001b[0m\u001b[0;34m(\u001b[0m\u001b[0mf\u001b[0m\u001b[0;34m[\u001b[0m\u001b[0mk\u001b[0m\u001b[0;34m]\u001b[0m\u001b[0;34m-\u001b[0m\u001b[0mb\u001b[0m\u001b[0;34m[\u001b[0m\u001b[0mk\u001b[0m\u001b[0;34m]\u001b[0m\u001b[0;34m*\u001b[0m\u001b[0mx\u001b[0m\u001b[0;34m[\u001b[0m\u001b[0mk\u001b[0m\u001b[0;34m-\u001b[0m\u001b[0;36m1\u001b[0m\u001b[0;34m]\u001b[0m\u001b[0;34m)\u001b[0m\u001b[0;34m/\u001b[0m\u001b[0mastar\u001b[0m\u001b[0;34m\u001b[0m\u001b[0;34m\u001b[0m\u001b[0m\n\u001b[0m\u001b[1;32m     22\u001b[0m     \u001b[0;32mfor\u001b[0m \u001b[0mk\u001b[0m \u001b[0;32min\u001b[0m \u001b[0mrange\u001b[0m\u001b[0;34m(\u001b[0m\u001b[0mN\u001b[0m\u001b[0;34m-\u001b[0m\u001b[0;36m2\u001b[0m\u001b[0;34m,\u001b[0m\u001b[0;34m-\u001b[0m\u001b[0;36m1\u001b[0m\u001b[0;34m,\u001b[0m\u001b[0;34m-\u001b[0m\u001b[0;36m1\u001b[0m\u001b[0;34m)\u001b[0m\u001b[0;34m:\u001b[0m\u001b[0;34m\u001b[0m\u001b[0;34m\u001b[0m\u001b[0m\n\u001b[1;32m     23\u001b[0m         \u001b[0mx\u001b[0m\u001b[0;34m[\u001b[0m\u001b[0mk\u001b[0m\u001b[0;34m]\u001b[0m\u001b[0;34m-=\u001b[0m\u001b[0mcstar\u001b[0m\u001b[0;34m[\u001b[0m\u001b[0mk\u001b[0m\u001b[0;34m]\u001b[0m\u001b[0;34m*\u001b[0m\u001b[0mx\u001b[0m\u001b[0;34m[\u001b[0m\u001b[0mk\u001b[0m\u001b[0;34m+\u001b[0m\u001b[0;36m1\u001b[0m\u001b[0;34m]\u001b[0m\u001b[0;34m\u001b[0m\u001b[0;34m\u001b[0m\u001b[0m\n",
      "\u001b[0;31mKeyboardInterrupt\u001b[0m: "
     ]
    }
   ],
   "source": [
    "import copy\n",
    "Err_EAr=[]\n",
    "Err_EAv=[]\n",
    "Err_CN=[]\n",
    "M_axis=[]\n",
    "lmb=[]\n",
    "\n",
    "for j in range(1):\n",
    "    Err_EAr.append([])\n",
    "    Err_EAv.append([])\n",
    "    Err_CN.append([])\n",
    "    lmb.append([])\n",
    "    M_axis.append([])\n",
    "    for i in range(3):\n",
    "        M_axis[j].append(copy.copy(M[j]))\n",
    "        h=L/(N[j]+1)\n",
    "        k=tmax/(M[j]-1)\n",
    "        x=np.linspace(0,1,N[j]+2)\n",
    "        #Condition initiale et frontières\n",
    "        U0=np.sin(np.pi*x)\n",
    "        bc=[0,0]\n",
    "        #Solution analytique\n",
    "        Sol=np.sin(np.pi*x)*np.exp((-(B+(np.pi)**2*D)*tmax))\n",
    "        #Intégration\n",
    "        U_EAv=EulAvant(U0,x,h,N[j],tmax,k,np.int(M[j]),B,D,bc)\n",
    "        U_EAr=EulArriere(U0,x,h,N[j],tmax,k,np.int(M[j]),B,D,bc)\n",
    "        #U_CN=CrNich(U0,x,h,N[j],tmax,k,np.int(M[j]),B,D,bc)\n",
    "        Err_EAv[j].append(np.linalg.norm(Sol-U_EAv[0][:,-1]))\n",
    "        Err_EAr[j].append(np.linalg.norm(Sol-U_EAr[0][:,-1]))\n",
    "        #Err_CN[j].append(np.linalg.norm(Sol-U_CN[0][:,-1]))\n",
    "        lmb[j].append(D*(k/h**2))\n",
    "        N[j]=2*N[j]+1\n",
    "        M[j]=4*M[j]\n",
    "        "
   ]
  },
  {
   "cell_type": "code",
   "execution_count": null,
   "metadata": {},
   "outputs": [],
   "source": [
    "print(M_axis)"
   ]
  },
  {
   "cell_type": "code",
   "execution_count": null,
   "metadata": {},
   "outputs": [],
   "source": [
    "mark=['o','s']\n",
    "\n",
    "\n",
    "fig,ax=plt.subplots(figsize=(15,5))\n",
    "for i in range(1):\n",
    "    ax.loglog(M_axis[i],Err_EAv[i],marker=mark[i],label='Erreur Euler avant, lambda=%.2f'%(lamb0[i]))\n",
    "    ax.loglog(M_axis[i],Err_EAr[i],marker=mark[i],label='Erreur Euler arrière, lambda=%.2f'%(lamb0[i]))\n",
    "    #ax.loglog(M_axis[i],Err_CN[i],marker=mark[i],label='Erreur Crank-Nicholson, lambda=%.2f'%(lamb0[i]))\n",
    "    #ax.loglog(M_axis[i],float(M_axis[i])**(-1)*(diff_EAv[0]/float(M_axis[i][0])**(-1)),'b--',label='$1/k$')\n",
    "ax.legend(loc='best',fontsize='small')\n",
    "ax.set_xlabel(\"M\")\n",
    "\n"
   ]
  },
  {
   "cell_type": "markdown",
   "metadata": {},
   "source": [
    "# Equation d'advection\n",
    "\n",
    "${\\large \\frac{\\partial u}{\\partial t}+a\\frac{\\partial u}{\\partial x}=0} \\, \\mbox{  pour  } \\begin{cases} 0 <x<\\infty ,\\\\ 0 <t \\end{cases} $, $u(0,t)=0$\n",
    "\n",
    "On définit $\\lambda =a\\frac{k}{h}$\n",
    "\n",
    "Upwind:\n",
    "\n",
    "$\n",
    "u_{i,j+1}=(1-\\lambda)u_{i,j}+\\lambda u_{i-1,j}\n",
    "$\n",
    "\n",
    "Downwind:\n",
    "\n",
    "$\n",
    "u_{i,j+1}=(1+\\lambda)u_{i,j}-\\lambda u_{i+1,j}\n",
    "$\n",
    "\n",
    "Lax-Wendroff:\n",
    "\n",
    "$\n",
    "u_{i,j+1}=-\\frac{1}{2}(1-\\lambda)u_{i+1,j}+(1-\\lambda^{2}) u_{i,j}+\\frac{1}{2}(1+\\lambda)u_{i-1,j}\n",
    "$"
   ]
  },
  {
   "cell_type": "code",
   "execution_count": 120,
   "metadata": {},
   "outputs": [],
   "source": [
    "%matplotlib widget\n",
    "import numpy as np\n",
    "import matplotlib.pyplot as plt\n",
    "\n",
    "\n",
    "def Create_Init(x,x1,x2,yy):\n",
    "    y=np.zeros(np.size(x))\n",
    "    for i in range(np.size(x)):\n",
    "        if x[i]>x1 and x[i]<x2:\n",
    "            y[i]=yy\n",
    "    return(y)\n",
    "\n",
    "def g(y,a,b):\n",
    "    k=y.size\n",
    "    l=b-a\n",
    "    h=np.zeros(k)\n",
    "    for p in range(k):\n",
    "        if y[p]>=(b+a)/2-(b-a)/4 and y[p]<=(b+a)/2+(b-a)/4:\n",
    "            h[p]=0.5*(1.-np.cos(2.*np.pi*((y[p]-(b+a)/2)/l)))\n",
    "            h[p]=(1+np.cos(2.*np.pi*((y[p]-(b+a)/2)/(l/2))))*0.5\n",
    "    return(h)\n",
    "\n",
    "\n",
    "def integration_adv(U0,a,x,T,lmb,int_mode):\n",
    "    h=np.abs(x[1]-x[0])\n",
    "    k=lmb*h/(abs(a))\n",
    "    M=int(np.round(tmax/k))+1\n",
    "    t=np.linspace(0.,tmax,M)\n",
    "    k=t[1]-t[0]\n",
    "    lmb=np.abs(a)*k/h\n",
    "    U=np.zeros((np.shape(x)[0],np.shape(t)[0]))\n",
    "    U[:,0]=U0\n",
    "    #Upwind\n",
    "    if int_mode=='Upwind':\n",
    "        for i in range(M-1):\n",
    "            U[1:-1,i+1]=(1-lmb)*U[1:-1,i]+lmb*U[0:-2,i]\n",
    "            U[0,i+1]=0\n",
    "            U[-1,i+1]=0\n",
    "    elif int_mode=='Downwind':\n",
    "        for i in range(M-1):\n",
    "            U[1:-1,i+1]=(1+lmb)*U[1:-1,i]-lmb*U[2:,i]\n",
    "            U[0,i+1]=0\n",
    "            U[-1,i+1]=0\n",
    "    elif int_mode=='Lax-Wendroff':\n",
    "        A=-(1/2)*lmb*(1-lmb)\n",
    "        B=(1-lmb**2)\n",
    "        C=0.5*lmb*(1+lmb)\n",
    "        for i in range(M-1):\n",
    "            U[1:-1,i+1]=A*U[2:,i]+B*U[1:-1,i]+C*U[0:-2,i]\n",
    "            U[0,i+1]=0\n",
    "            U[-1,i+1]=0\n",
    "    else:\n",
    "        print('Unknown integration scheme')\t\n",
    "        U=0\n",
    "    return(U,x,t)\n"
   ]
  },
  {
   "cell_type": "code",
   "execution_count": 125,
   "metadata": {},
   "outputs": [],
   "source": [
    "a=1\n",
    "\n",
    "lmb=1.\n",
    "L=120\n",
    "N=501\n",
    "x=np.linspace(0.,L,N+2)\n",
    "tmax=100\n",
    "\n",
    "U0_carre=Create_Init(x,4,5,1)\n",
    "a_cos=0\n",
    "b_cos=10\n",
    "U0_cos=g(x,a_cos,b_cos)\n",
    "\n",
    "U_up_carre=integration_adv(U0_carre,a,x,tmax,lmb,'Upwind')\n",
    "U_down_carre=integration_adv(U0_carre,a,x,tmax,lmb,'Downwind')\n",
    "U_lw_carre=integration_adv(U0_carre,a,x,tmax,lmb,'Lax-Wendroff')\n",
    "\n",
    "U_up_cos=integration_adv(U0_cos,a,x,tmax,lmb,'Upwind')\n",
    "U_down_cos=integration_adv(U0_cos,a,x,tmax,lmb,'Downwind')\n",
    "U_lw_cos=integration_adv(U0_cos,a,x,tmax,lmb,'Lax-Wendroff')\n"
   ]
  },
  {
   "cell_type": "code",
   "execution_count": 145,
   "metadata": {},
   "outputs": [
    {
     "name": "stdout",
     "output_type": "stream",
     "text": [
      "(601, 1001)\n",
      "1001\n"
     ]
    },
    {
     "data": {
      "application/vnd.jupyter.widget-view+json": {
       "model_id": "a52e37bdc1c0464883e8aafe807d8b25",
       "version_major": 2,
       "version_minor": 0
      },
      "text/plain": [
       "Canvas(toolbar=Toolbar(toolitems=[('Home', 'Reset original view', 'home', 'home'), ('Back', 'Back to previous …"
      ]
     },
     "metadata": {},
     "output_type": "display_data"
    },
    {
     "name": "stdout",
     "output_type": "stream",
     "text": [
      "0\n",
      "250\n",
      "500\n",
      "750\n",
      "990\n"
     ]
    }
   ],
   "source": [
    "t=U_up_carre[2]\n",
    "M=t.shape[0]\n",
    "Mspan=[0,0.25,0.5,0.75,0.99]\n",
    "\n",
    "print(U_up_carre[0].shape)\n",
    "print(M)\n",
    "fig,ax=plt.subplots(2,5,figsize=(15,7),sharey='row')\n",
    "for i in range(len(Mspan)):\n",
    "    n=int(np.floor(M*Mspan[i]))\n",
    "    center_carre=4.5+a*t[n]\n",
    "    center_cos=(b_cos+a_cos)/2+a*t[n]\n",
    "    ax[0,i].plot(x,U_up_carre[0][:,n],label='Upwind',linewidth=4.)\n",
    "    ax[0,i].plot(x,U_down_carre[0][:,n],label='Downwind',linewidth=3.)\n",
    "    ax[0,i].plot(x,U_lw_carre[0][:,n],label='Lax-Wendroff',linewidth=2.)\n",
    "    ax[0,i].plot(x,Create_Init(x-a*t[n],4,5,1),label='Analytique')\n",
    "    #ax[0,i].set_xlabel('x')\n",
    "    ax[0,i].set_ylabel('y')\n",
    "    ax[0,i].set_ylim((-0.5,1.5))\n",
    "    ax[0,i].set_xlim((center_carre-4,center_carre+4))\n",
    "    ax[0,i].set_title('Time=%.2f, lambda=%.1f'%(t[n],lmb))\n",
    "    ax[0,i].legend(loc='best',fontsize='small')\n",
    "    ax[1,i].plot(x,U_up_cos[0][:,n],label='Upwind',linewidth=4.)\n",
    "    ax[1,i].plot(x,U_down_cos[0][:,n],label='Downwind',linewidth=3.)\n",
    "    ax[1,i].plot(x,U_lw_cos[0][:,n],label='Lax-Wendroff',linewidth=2.)\n",
    "    ax[1,i].plot(x,g(x-a*t[n],0,10),label='Analytique')\n",
    "    ax[1,i].set_xlabel('x')\n",
    "    ax[1,i].set_ylabel('y')\n",
    "    ax[1,i].set_ylim((-0.5,1.5))\n",
    "    ax[1,i].set_xlim((center_cos-4,center_cos+4))\n",
    "    ax[1,i].set_title('Time=%.2f, lambda=%.1f'%(t[n],lmb))\n",
    "    ax[1,i].legend(loc='best',fontsize='small')\n",
    "    "
   ]
  },
  {
   "cell_type": "markdown",
   "metadata": {},
   "source": [
    "Condition CFL\n",
    "--------\n",
    "Le domaine de dépendence numérique du schéma doit contenir le domaine de dépendance du problème initial. \n",
    "Pour les trois schémas, la condition est la même $\\lambda \\leq 1$\n",
    "\n",
    "Stabilité\n",
    "----\n",
    "Pour comprende le comportement des différents schémas numériques, il faut effectuer une analyse de stabilité. On trouve alors\n",
    "\n",
    "${\\large u_{i,j+1}=\\kappa \\, u_{i,j}=|\\kappa | e^{I\\theta_{n}}}$, où ${\\large \\theta_{n}=\\frac{\\Im(\\kappa)}{\\Re(\\kappa)}}$. On appelle $\\kappa$ le facteur d'amplification\n",
    "\n",
    "Considérons une solution de la forme:\n",
    "\n",
    "${\\large u(x,t)=Ue^{I(rx-\\omega t)}}$\n",
    "\n",
    "En remplacant dans l'équation d'advection\n",
    "\n",
    "${\\large U(-I\\omega) e^{I(rx-\\omega t)}+a (Irx)e^{I(rx-\\omega t)}}=0$\n",
    "\n",
    "${\\large \\Rightarrow \\omega=r a}$ (relation de dispersion). Ce système est non dispersif.\n",
    "\n",
    "On veut maintenant connaitre l'évolution \"vraie\" à chaque pas de temps de ma solution analytique.\n",
    "\n",
    "${\\large u(x,t+k)=Ue^{I(rx-\\omega (t+k)}=e^{-I\\omega k}Ue^{I(rx-\\omega t)}=\\kappa_{a} Ue^{I(rx-\\omega t)}}$\n",
    "\n",
    "avec ${\\large \\kappa_{a}=e^{-I\\omega k}=e^{-I ark}=e^{-I \\lambda r h}=e^{I\\theta_{a}}}$. \n",
    "\n",
    "Cette expression est à mettre en parallèle avec la première équation pour la solution numérique."
   ]
  },
  {
   "cell_type": "markdown",
   "metadata": {},
   "source": [
    "Pour les schémas upwind et downwind:\n",
    "\n",
    "${\\large \\kappa =1-\\lambda +cos(rh)-\\lambda sin(rh) I}$\n",
    "\n",
    "Pour le schéma Lax-Wendroff:\n",
    "\n",
    "${\\large \\kappa= 1-2 \\lambda^2 sin^{2}(\\frac{rh}{2})-\\lambda sin(rh) I}$ "
   ]
  },
  {
   "cell_type": "code",
   "execution_count": 14,
   "metadata": {},
   "outputs": [
    {
     "data": {
      "application/vnd.jupyter.widget-view+json": {
       "model_id": "ab5784865fd8426d80fd8daad12a60da",
       "version_major": 2,
       "version_minor": 0
      },
      "text/plain": [
       "Canvas(toolbar=Toolbar(toolitems=[('Home', 'Reset original view', 'home', 'home'), ('Back', 'Back to previous …"
      ]
     },
     "metadata": {},
     "output_type": "display_data"
    },
    {
     "data": {
      "text/plain": [
       "<matplotlib.legend.Legend at 0x7fefd01019d0>"
      ]
     },
     "execution_count": 14,
     "metadata": {},
     "output_type": "execute_result"
    }
   ],
   "source": [
    "ko=np.linspace(0.01,np.pi-0.001,100)\n",
    "\n",
    "lmb=[0.25,0.5,0.75,1.,1.0]\n",
    "fig,ax=plt.subplots(1,2,figsize=(15,5),subplot_kw=dict(polar=True))\n",
    "for i in range(5):\n",
    "    ampl_R=1-lmb[i]+lmb[i]*np.cos(ko)\n",
    "    ampl_I=-lmb[i]*np.sin(ko)\n",
    "    ampl=1-lmb[i]+lmb[i]*np.cos(ko)+(1j)*(-lmb[i]*np.sin(ko))\n",
    "    #ampl=(1+2*lmb[i]*(lmb[i]-1)*(1-np.cos(ko)))**(1/2)\n",
    "    ratio=np.arctan(ampl_I/ampl_R)/(-lmb[i]*ko)\n",
    "    ratio=(np.imag(ampl)/np.real(ampl))/(-lmb[i]*ko)\n",
    "    #ratio=(np.arctan(-(lmb[i]*np.sin(ko))/(1-lmb[i]+lmb[i]*np.cos(ko)))/(-lmb[i]*ko))\n",
    "    ax[0].plot(ko,np.sqrt(ampl_R**2+ampl_I**2),label='lambda=%.2f'%(lmb[i]))\n",
    "    #ax[0].plot(ko,np.abs(ampl),label='lambda=%.2f'%(lmb[i]))\n",
    "    #ax[1].plot(ko,ratio,label='lambda=%.2f'%(lmb[i]))\n",
    "    ax[1].plot(ko,np.abs(ratio),label='lambda=%.2f'%(lmb[i]))\n",
    "    \n",
    "ax[0].set_rmax(2)\n",
    "    #ax.set_rticks([0.0,0.5, 1, 1.5])  # Less radial ticks\n",
    "ax[0].set_rgrids([0.0,0.5, 1, 1.5],labels=['0.0','0.5', '1', '1.5'],fontsize=20)\n",
    "ax[0].set_frame_on(False)\n",
    "ax[0].set_thetamax(180)\n",
    "ax[0].set_thetagrids(angles=[0,180],labels=['rh=0','rh=$\\pi$'],fontsize=15)\n",
    "#ax[0].annotate('$\\lambda =0.5$',xy=[11*np.pi/16, 0.3], fontsize=10)\n",
    "#ax[0].annotate('$\\lambda =0.75$',xy=[5*np.pi/6, 0.85], fontsize=10)\n",
    "#ax[0].annotate('$\\lambda =1.0$',xy=[5*np.pi/6, 1.35], fontsize=10)\n",
    "#ax[0].annotate('$\\lambda =1.25$',xy=[6*np.pi/8, 1.8], fontsize=10)\n",
    "#ax[0].annotate('$\\lambda =1.25$',xy=[3*np.pi/2, 1.8], fontsize=10)\n",
    "ax[0].legend()\n",
    "ax[1].set_rmax(2)\n",
    "    #ax.set_rticks([0.0,0.5, 1, 1.5])  # Less radial ticks\n",
    "ax[1].set_rgrids([0.0,0.5, 1, 1.5],labels=['0.0','0.5', '1', '1.5'],fontsize=20)\n",
    "ax[1].set_frame_on(False)\n",
    "ax[1].set_thetamax(180)\n",
    "ax[1].set_thetagrids(angles=[0,180],labels=['rh=0','rh=$\\pi$'],fontsize=15)\n",
    "#ax[1].annotate('$\\lambda =0.5$',xy=[11*np.pi/16, 0.3], fontsize=10)\n",
    "#ax[1].annotate('$\\lambda =0.75$',xy=[5*np.pi/6, 0.85], fontsize=10)\n",
    "#ax[1].annotate('$\\lambda =1.0$',xy=[5*np.pi/6, 1.35], fontsize=10)\n",
    "#ax[1].annotate('$\\lambda =1.25$',xy=[6*np.pi/8, 1.8], fontsize=10)\n",
    "#ax[1].annotate('$\\lambda =1.25$',xy=[3*np.pi/2, 1.8], fontsize=10)\n",
    "ax[1].legend()\n",
    "#ax.annotate('|$\\kappa $| = $1+2\\lambda (\\lambda -1) (1-cos(rh))$',xy=[np.pi/2, 1.8],ha='center', va='bottom', fontsize=30)\n",
    "#ax.annotate('$rh$',xy=[1*np.pi/100, 1.8], fontsize=15)\n",
    "\n",
    "#Phase error\n"
   ]
  },
  {
   "cell_type": "code",
   "execution_count": 38,
   "metadata": {},
   "outputs": [
    {
     "data": {
      "application/vnd.jupyter.widget-view+json": {
       "model_id": "2064caee67224a6ba7e549f69ed2a19d",
       "version_major": 2,
       "version_minor": 0
      },
      "text/plain": [
       "Canvas(toolbar=Toolbar(toolitems=[('Home', 'Reset original view', 'home', 'home'), ('Back', 'Back to previous …"
      ]
     },
     "metadata": {},
     "output_type": "display_data"
    }
   ],
   "source": [
    "ko=np.linspace(0.01,np.pi-0.001,100)\n",
    "\n",
    "lmb=[0.25,0.5,0.75,1.,1.25]\n",
    "fig,ax=plt.subplots(1,5,figsize=(15,5))\n",
    "for i in range(5):\n",
    "    ampl_R=1-lmb[i]+lmb[i]*np.cos(ko)\n",
    "    ampl_I=-lmb[i]*np.sin(ko)\n",
    "    ampl=(1-lmb[i]+lmb[i]*np.cos(ko))+(1j)*(-lmb[i]*np.sin(ko))\n",
    "    #ampl=(1+2*lmb[i]*(lmb[i]-1)*(1-np.cos(ko)))**(1/2)\n",
    "    ratio0=np.arctan(ampl_I/ampl_R)/(-lmb[i]*ko)\n",
    "    ratio1=(np.arctan(np.imag(ampl)/np.real(ampl))/(-lmb[i]*ko))\n",
    "    #ratio=(np.arctan(-(lmb[i]*np.sin(ko))/(1-lmb[i]+lmb[i]*np.cos(ko)))/(-lmb[i]*ko))\n",
    "    ax[0].plot(ko,np.sqrt(ampl_R**2+ampl_I**2),label='lambda=%.2f'%(lmb[i]))\n",
    "    #ax[0].plot(ko,np.abs(ampl),label='lambda=%.2f'%(lmb[i]))\n",
    "    #ax[1].plot(ko,ratio,label='lambda=%.2f'%(lmb[i]))\n",
    "    #ax[1].plot(ko,ratio0,label='lambda=%.2f'%(lmb[i]))\n",
    "    ax[1].plot(ko,np.real(ampl),'o',label='lambda=%.2f'%(lmb[i]))\n",
    "    ax[1].plot(ko,ampl_R,label='lambda=%.2f'%(lmb[i]))\n",
    "    ax[2].plot(ko,np.imag(ampl),'o',label='lambda=%.2f'%(lmb[i]))\n",
    "    ax[2].plot(ko,ampl_I,label='lambda=%.2f'%(lmb[i]))\n",
    "    ax[3].plot(ko,(np.arctan(np.abs(1/np.real(ampl)))),label='lambda=%.2f'%(lmb[i]))\n",
    "    ax[3].plot(ko,np.arctan(np.imag(ampl)),label='lambda=%.2f'%(lmb[i]))\n",
    "    ax[4].plot(ko,ratio0,label='lambda=%.2f'%(lmb[i]))\n",
    "    \n",
    "    "
   ]
  },
  {
   "cell_type": "code",
   "execution_count": 43,
   "metadata": {},
   "outputs": [
    {
     "data": {
      "application/vnd.jupyter.widget-view+json": {
       "model_id": "e9ea47b014e548c2b464e8f8f9131c29",
       "version_major": 2,
       "version_minor": 0
      },
      "text/plain": [
       "Canvas(toolbar=Toolbar(toolitems=[('Home', 'Reset original view', 'home', 'home'), ('Back', 'Back to previous …"
      ]
     },
     "metadata": {},
     "output_type": "display_data"
    },
    {
     "data": {
      "text/plain": [
       "<matplotlib.legend.Legend at 0x7fefc9790730>"
      ]
     },
     "execution_count": 43,
     "metadata": {},
     "output_type": "execute_result"
    }
   ],
   "source": [
    "ko=np.linspace(0.01,np.pi-0.001,100)\n",
    "\n",
    "lmb=[0.25,0.5,0.75,1.]\n",
    "fig,ax=plt.subplots(1,2,figsize=(15,5),subplot_kw=dict(polar=True))\n",
    "for i in range(4):\n",
    "    ampl_R=1-lmb[i]+lmb[i]*np.cos(ko)\n",
    "    ampl_I=-lmb[i]*np.sin(ko)\n",
    "    ampl=(-1j*lmb[i]*np.sin(ko)+np.sqrt(1-(lmb[i]**2*np.sin(ko))**2))\n",
    "    #ampl=(1+2*lmb[i]*(lmb[i]-1)*(1-np.cos(ko)))**(1/2)\n",
    "    ratio=np.arctan(ampl_I/ampl_R)/(-lmb[i]*ko)\n",
    "    ratio=(np.imag(ampl)/np.real(ampl))/(-lmb[i]*ko)\n",
    "    #ratio=(np.arctan(-(lmb[i]*np.sin(ko))/(1-lmb[i]+lmb[i]*np.cos(ko)))/(-lmb[i]*ko))\n",
    "    #ax[0].plot(ko,np.sqrt(ampl_R**2+ampl_I**2),label='lambda=%.2f'%(lmb[i]))\n",
    "    ax[0].plot(ko,np.abs(ampl),label='lambda=%.2f'%(lmb[i]))\n",
    "    #ax[1].plot(ko,ratio,label='lambda=%.2f'%(lmb[i]))\n",
    "    ax[1].plot(ko,np.abs(ratio),label='lambda=%.2f'%(lmb[i]))\n",
    "    \n",
    "ax[0].set_rmax(2)\n",
    "    #ax.set_rticks([0.0,0.5, 1, 1.5])  # Less radial ticks\n",
    "ax[0].set_rgrids([0.0,0.5, 1, 1.5],labels=['0.0','0.5', '1', '1.5'],fontsize=20)\n",
    "ax[0].set_frame_on(False)\n",
    "ax[0].set_thetamax(180)\n",
    "ax[0].set_thetagrids(angles=[0,180],labels=['rh=0','rh=$\\pi$'],fontsize=15)\n",
    "#ax[0].annotate('$\\lambda =0.5$',xy=[11*np.pi/16, 0.3], fontsize=10)\n",
    "#ax[0].annotate('$\\lambda =0.75$',xy=[5*np.pi/6, 0.85], fontsize=10)\n",
    "#ax[0].annotate('$\\lambda =1.0$',xy=[5*np.pi/6, 1.35], fontsize=10)\n",
    "#ax[0].annotate('$\\lambda =1.25$',xy=[6*np.pi/8, 1.8], fontsize=10)\n",
    "#ax[0].annotate('$\\lambda =1.25$',xy=[3*np.pi/2, 1.8], fontsize=10)\n",
    "ax[0].legend()\n",
    "ax[1].set_rmax(2)\n",
    "    #ax.set_rticks([0.0,0.5, 1, 1.5])  # Less radial ticks\n",
    "ax[1].set_rgrids([0.0,0.5, 1, 1.5],labels=['0.0','0.5', '1', '1.5'],fontsize=20)\n",
    "ax[1].set_frame_on(False)\n",
    "ax[1].set_thetamax(180)\n",
    "ax[1].set_thetagrids(angles=[0,180],labels=['rh=0','rh=$\\pi$'],fontsize=15)\n",
    "#ax[1].annotate('$\\lambda =0.5$',xy=[11*np.pi/16, 0.3], fontsize=10)\n",
    "#ax[1].annotate('$\\lambda =0.75$',xy=[5*np.pi/6, 0.85], fontsize=10)\n",
    "#ax[1].annotate('$\\lambda =1.0$',xy=[5*np.pi/6, 1.35], fontsize=10)\n",
    "#ax[1].annotate('$\\lambda =1.25$',xy=[6*np.pi/8, 1.8], fontsize=10)\n",
    "#ax[1].annotate('$\\lambda =1.25$',xy=[3*np.pi/2, 1.8], fontsize=10)\n",
    "ax[1].legend()\n",
    "#ax.annotate('|$\\kappa $| = $1+2\\lambda (\\lambda -1) (1-cos(rh))$',xy=[np.pi/2, 1.8],ha='center', va='bottom', fontsize=30)\n",
    "#ax.annotate('$rh$',xy=[1*np.pi/100, 1.8], fontsize=15)\n"
   ]
  },
  {
   "cell_type": "code",
   "execution_count": 47,
   "metadata": {},
   "outputs": [
    {
     "data": {
      "application/vnd.jupyter.widget-view+json": {
       "model_id": "3e455ad4f0734e25be3aa77083936f43",
       "version_major": 2,
       "version_minor": 0
      },
      "text/plain": [
       "Canvas(toolbar=Toolbar(toolitems=[('Home', 'Reset original view', 'home', 'home'), ('Back', 'Back to previous …"
      ]
     },
     "metadata": {},
     "output_type": "display_data"
    }
   ],
   "source": [
    "ko=np.linspace(0.01,np.pi-0.001,100)\n",
    "\n",
    "lmb=[0.25,0.5,0.75,1.]\n",
    "fig,ax=plt.subplots(1,5,figsize=(15,5))\n",
    "for i in range(4):\n",
    "    ampl_R=np.sqrt(1-(lmb[i]**2*np.sin(ko))**2)\n",
    "    ampl_I=-lmb[i]*np.sin(ko)\n",
    "    ampl=(-1j*lmb[i]*np.sin(ko)+np.sqrt(1-(lmb[i]**2*np.sin(ko))**2))\n",
    "    #ampl=(1+2*lmb[i]*(lmb[i]-1)*(1-np.cos(ko)))**(1/2)\n",
    "    ratio0=np.arctan(ampl_I/ampl_R)/(-lmb[i]*ko)\n",
    "    ratio1=(np.arctan(np.imag(ampl)/np.real(ampl))/(-lmb[i]*ko))\n",
    "    #ratio=(np.arctan(-(lmb[i]*np.sin(ko))/(1-lmb[i]+lmb[i]*np.cos(ko)))/(-lmb[i]*ko))\n",
    "    ax[0].plot(ko,np.sqrt(ampl_R**2+ampl_I**2),label='lambda=%.2f'%(lmb[i]))\n",
    "    #ax[0].plot(ko,np.abs(ampl),label='lambda=%.2f'%(lmb[i]))\n",
    "    #ax[1].plot(ko,ratio,label='lambda=%.2f'%(lmb[i]))\n",
    "    #ax[1].plot(ko,ratio0,label='lambda=%.2f'%(lmb[i]))\n",
    "    ax[1].plot(ko,np.real(ampl),'o',label='lambda=%.2f'%(lmb[i]))\n",
    "    ax[1].plot(ko,ampl_R,label='lambda=%.2f'%(lmb[i]))\n",
    "    ax[2].plot(ko,np.imag(ampl),'o',label='lambda=%.2f'%(lmb[i]))\n",
    "    ax[2].plot(ko,ampl_I,label='lambda=%.2f'%(lmb[i]))\n",
    "    ax[3].plot(ko,(np.arctan(np.abs(1/np.real(ampl)))),label='lambda=%.2f'%(lmb[i]))\n",
    "    ax[3].plot(ko,np.arctan(np.imag(ampl)),label='lambda=%.2f'%(lmb[i]))\n",
    "    ax[4].plot(ko,ratio0,label='lambda=%.2f'%(lmb[i]))\n",
    "    \n",
    "    "
   ]
  },
  {
   "cell_type": "markdown",
   "metadata": {},
   "source": [
    "# Leapfrog pour l'advection\n",
    "\n",
    "Un schéma leapfrog pour résoudre l'équation d'advection est  u_{i,j+1}=u_{i,j-1}-\\lambda (u_{i+1,j}-u_{i-1,j}).$"
   ]
  },
  {
   "cell_type": "code",
   "execution_count": 138,
   "metadata": {},
   "outputs": [],
   "source": [
    "\n",
    "import numpy as np\n",
    "import matplotlib.pyplot as plt\n",
    "\n",
    "\n",
    "def Create_Init(x,x1,x2,yy):\n",
    "    y=np.zeros(np.size(x))\n",
    "    for i in range(np.size(x)):\n",
    "        if x[i]>x1 and x[i]<x2:\n",
    "            y[i]=yy\n",
    "    return(y)\n",
    "def g(y,a,b):\n",
    "    k=y.size\n",
    "    l=b-a\n",
    "    h=np.zeros(k)\n",
    "    for p in range(k):\n",
    "        if y[p]>=(b+a)/2-(b-a)/4 and y[p]<=(b+a)/2+(b-a)/4:\n",
    "            h[p]=0.5*(1.-np.cos(2.*np.pi*((y[p]-(b+a)/2)/l)))\n",
    "            h[p]=(1+np.cos(2.*np.pi*((y[p]-(b+a)/2)/(l/2))))*0.5\n",
    "    return(h)\n",
    "\n",
    "\n",
    "def Leapfrog_adv(U0,a,x,tmax,lmb):\n",
    "    h=np.abs(x[1]-x[0])\n",
    "    k=lmb*h/(abs(a))\n",
    "    M=int(np.round(tmax/k))+1\n",
    "    t=np.linspace(0.,tmax,M)\n",
    "    k=t[1]-t[0]\n",
    "    lmb=np.abs(a)*k/h\n",
    "    U=np.zeros((np.shape(x)[0],np.shape(t)[0]))\n",
    "    U[:,0]=U0\n",
    "    for i in range(M-1):\n",
    "        if i==0:\n",
    "            U[1:-1,i+1]=(1-lmb)*U[1:-1,i]+lmb*U[0:-2,i]\n",
    "            U[0,i+1]=0\n",
    "            U[-1,i+1]=0\n",
    "        else:\n",
    "            U[1:-1,i+1]=U[1:-1,i-1]-lmb*(U[2:,i]-U[0:-2,i])\n",
    "            U[0,i+1]=0\n",
    "            U[-1,i+1]=0\n",
    "    return(U,x,t)\n",
    "\n",
    "\n",
    "\n",
    "def integration_adv(U0,a,x,T,lmb,int_mode):\n",
    "    h=np.abs(x[1]-x[0])\n",
    "    k=lmb*h/(abs(a))\n",
    "    M=int(np.round(tmax/k))+1\n",
    "    t=np.linspace(0.,tmax,M)\n",
    "    k=t[1]-t[0]\n",
    "    lmb=np.abs(a)*k/h\n",
    "    U=np.zeros((np.shape(x)[0],np.shape(t)[0]))\n",
    "    U[:,0]=U0\n",
    "    #Upwind\n",
    "    if int_mode=='Upwind':\n",
    "        for i in range(M-1):\n",
    "            U[1:-1,i+1]=(1-lmb)*U[1:-1,i]+lmb*U[0:-2,i]\n",
    "            U[0,i+1]=0\n",
    "            U[-1,i+1]=0\n",
    "    elif int_mode=='Downwind':\n",
    "        for i in range(M-1):\n",
    "            U[1:-1,i+1]=(1+lmb)*U[1:-1,i]-lmb*U[2:,i]\n",
    "            U[0,i+1]=0\n",
    "            U[-1,i+1]=0\n",
    "    elif int_mode=='Lax-Wendroff':\n",
    "        A=-(1/2)*lmb*(1-lmb)\n",
    "        B=(1-lmb**2)\n",
    "        C=0.5*lmb*(1+lmb)\n",
    "        for i in range(M-1):\n",
    "            U[1:-1,i+1]=A*U[2:,i]+B*U[1:-1,i]+C*U[0:-2,i]\n",
    "            U[0,i+1]=0\n",
    "            U[-1,i+1]=0\n",
    "    else:\n",
    "        print('Unknown integration scheme')\t\n",
    "        U=0\n",
    "    return(U,x,t)\n"
   ]
  },
  {
   "cell_type": "code",
   "execution_count": 176,
   "metadata": {},
   "outputs": [],
   "source": [
    "a=1\n",
    "\n",
    "lmb=0.9\n",
    "L=150\n",
    "N=601\n",
    "x=np.linspace(0.,L,N+2)\n",
    "tmax=100\n",
    "\n",
    "U0_carre=Create_Init(x,4,5,1)\n",
    "a_cos=0\n",
    "b_cos=30\n",
    "U0_cos=g(x,a_cos,b_cos)\n",
    "\n",
    "U_up_carre=integration_adv(U0_carre,a,x,tmax,lmb,'Upwind')\n",
    "U_down_carre=integration_adv(U0_carre,a,x,tmax,lmb,'Downwind')\n",
    "U_lw_carre=integration_adv(U0_carre,a,x,tmax,lmb,'Lax-Wendroff')\n",
    "U_lp_carre=Leapfrog_adv(U0_carre,a,x,tmax,lmb)\n",
    "\n",
    "U_up_cos=integration_adv(U0_cos,a,x,tmax,lmb,'Upwind')\n",
    "U_down_cos=integration_adv(U0_cos,a,x,tmax,lmb,'Downwind')\n",
    "U_lw_cos=integration_adv(U0_cos,a,x,tmax,lmb,'Lax-Wendroff')\n",
    "U_lp_cos=Leapfrog_adv(U0_cos,a,x,tmax,lmb)\n"
   ]
  },
  {
   "cell_type": "code",
   "execution_count": 177,
   "metadata": {},
   "outputs": [
    {
     "data": {
      "application/vnd.jupyter.widget-view+json": {
       "model_id": "1dd4c4451edd48a18619b3cf3550fd89",
       "version_major": 2,
       "version_minor": 0
      },
      "text/plain": [
       "Canvas(toolbar=Toolbar(toolitems=[('Home', 'Reset original view', 'home', 'home'), ('Back', 'Back to previous …"
      ]
     },
     "metadata": {},
     "output_type": "display_data"
    }
   ],
   "source": [
    "t=U_up_carre[2]\n",
    "M=t.shape[0]\n",
    "Mspan=[0,0.25,0.5,0.75,0.99]\n",
    "\n",
    "\n",
    "fig,ax=plt.subplots(2,5,figsize=(15,7),sharey='row')\n",
    "for i in range(len(Mspan)):\n",
    "    n=int(np.floor(M*Mspan[i]))\n",
    "    center_carre=4.5+a*t[n]\n",
    "    center_cos=(b_cos+a_cos)/2+a*t[n]\n",
    "    ax[0,i].plot(x,U_up_carre[0][:,n],label='Upwind',linewidth=2.)\n",
    "    ax[0,i].plot(x,U_down_carre[0][:,n],label='Downwind',linewidth=2.)\n",
    "    ax[0,i].plot(x,U_lw_carre[0][:,n],label='Lax-Wendroff',linewidth=2.)\n",
    "    ax[0,i].plot(x,U_lp_carre[0][:,n],label='Lax-Wendroff',linewidth=2.)\n",
    "    ax[0,i].plot(x,Create_Init(x-a*t[n],4,5,1),label='Analytique')\n",
    "    #ax[0,i].set_xlabel('x')\n",
    "    ax[0,i].set_ylabel('y')\n",
    "    ax[0,i].set_ylim((-0.5,1.5))\n",
    "    ax[0,i].set_xlim((center_carre-4,center_carre+4))\n",
    "    ax[0,i].set_title('Time=%.2f, lambda=%.1f'%(t[n],lmb))\n",
    "    ax[0,i].legend(loc='best',fontsize='small')\n",
    "    ax[1,i].plot(x,U_up_cos[0][:,n],label='Upwind',linewidth=2.)\n",
    "    ax[1,i].plot(x,U_down_cos[0][:,n],label='Downwind',linewidth=2.)\n",
    "    ax[1,i].plot(x,U_lw_cos[0][:,n],label='Lax-Wendroff',linewidth=2.)\n",
    "    ax[1,i].plot(x,U_lp_cos[0][:,n],label='Leapfrog',linewidth=2.)\n",
    "    ax[1,i].plot(x,g(x-a*t[n],a_cos,b_cos),label='Analytique')\n",
    "    ax[1,i].set_xlabel('x')\n",
    "    ax[1,i].set_ylabel('y')\n",
    "    ax[1,i].set_ylim((-0.5,1.5))\n",
    "    ax[1,i].set_xlim((center_cos-(b_cos-a_cos)/4,center_cos+(b_cos-a_cos)/4))\n",
    "    ax[1,i].set_title('Time=%.2f, lambda=%.1f'%(t[n],lmb))\n",
    "    ax[1,i].legend(loc='best',fontsize='small')\n",
    "    \n",
    "    "
   ]
  },
  {
   "cell_type": "code",
   "execution_count": null,
   "metadata": {},
   "outputs": [],
   "source": []
  },
  {
   "cell_type": "code",
   "execution_count": null,
   "metadata": {},
   "outputs": [],
   "source": []
  }
 ],
 "metadata": {
  "kernelspec": {
   "display_name": "Python 3",
   "language": "python",
   "name": "python3"
  },
  "language_info": {
   "codemirror_mode": {
    "name": "ipython",
    "version": 3
   },
   "file_extension": ".py",
   "mimetype": "text/x-python",
   "name": "python",
   "nbconvert_exporter": "python",
   "pygments_lexer": "ipython3",
   "version": "3.8.5"
  }
 },
 "nbformat": 4,
 "nbformat_minor": 4
}
