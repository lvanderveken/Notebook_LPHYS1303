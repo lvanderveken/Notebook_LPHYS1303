{
 "cells": [
  {
   "cell_type": "code",
   "execution_count": null,
   "metadata": {},
   "outputs": [],
   "source": [
    "%matplotlib widget\n",
    "import numpy as np\n",
    "import matplotlib.pyplot as plt\n"
   ]
  },
  {
   "cell_type": "markdown",
   "metadata": {},
   "source": [
    "# Equation d'advection\n",
    "\n",
    "${\\large \\frac{\\partial u}{\\partial t}+a\\frac{\\partial u}{\\partial x}=0} \\, \\mbox{  pour  } \\begin{cases} 0 <x<\\infty ,\\\\ 0 <t \\end{cases} $, $u(0,t)=0$\n",
    "\n",
    "On définit $\\lambda =a\\frac{k}{h}$\n",
    "\n",
    "Upwind:\n",
    "\n",
    "$\n",
    "u_{i,j+1}=(1-\\lambda)u_{i,j}+\\lambda u_{i-1,j}\n",
    "$\n",
    "\n",
    "Downwind:\n",
    "\n",
    "$\n",
    "u_{i,j+1}=(1+\\lambda)u_{i,j}-\\lambda u_{i+1,j}\n",
    "$\n",
    "\n",
    "Lax-Wendroff:\n",
    "\n",
    "$\n",
    "u_{i,j+1}=-\\frac{1}{2}(1-\\lambda)u_{i+1,j}+(1-\\lambda^{2}) u_{i,j}+\\frac{1}{2}(1+\\lambda)u_{i-1,j}\n",
    "$"
   ]
  },
  {
   "cell_type": "code",
   "execution_count": 1,
   "metadata": {},
   "outputs": [],
   "source": [
    "\n",
    "def Create_Init(x,x1,x2,yy):\n",
    "    y=np.zeros(np.size(x))\n",
    "    for i in range(np.size(x)):\n",
    "        if x[i]>x1 and x[i]<x2:\n",
    "            y[i]=yy\n",
    "    return(y)\n",
    "\n",
    "def g(y,a,b):\n",
    "    k=y.size\n",
    "    l=b-a\n",
    "    h=np.zeros(k)\n",
    "    for p in range(k):\n",
    "        if y[p]>=(b+a)/2-(b-a)/4 and y[p]<=(b+a)/2+(b-a)/4:\n",
    "            h[p]=0.5*(1.-np.cos(2.*np.pi*((y[p]-(b+a)/2)/l)))\n",
    "            h[p]=(1+np.cos(2.*np.pi*((y[p]-(b+a)/2)/(l/2))))*0.5\n",
    "    return(h)\n",
    "\n",
    "\n",
    "def integration_adv(U0,a,x,T,lmb,int_mode):\n",
    "    h=np.abs(x[1]-x[0])\n",
    "    k=lmb*h/(abs(a))\n",
    "    M=int(np.round(tmax/k))+1\n",
    "    t=np.linspace(0.,tmax,M)\n",
    "    k=t[1]-t[0]\n",
    "    lmb=np.abs(a)*k/h\n",
    "    U=np.zeros((np.shape(x)[0],np.shape(t)[0]))\n",
    "    U[:,0]=U0\n",
    "    #Upwind\n",
    "    if int_mode=='Upwind':\n",
    "        for i in range(M-1):\n",
    "            U[1:-1,i+1]=(1-lmb)*U[1:-1,i]+lmb*U[0:-2,i]\n",
    "            U[0,i+1]=0\n",
    "            U[-1,i+1]=0\n",
    "    elif int_mode=='Downwind':\n",
    "        for i in range(M-1):\n",
    "            U[1:-1,i+1]=(1+lmb)*U[1:-1,i]-lmb*U[2:,i]\n",
    "            U[0,i+1]=0\n",
    "            U[-1,i+1]=0\n",
    "    elif int_mode=='Lax-Wendroff':\n",
    "        A=-(1/2)*lmb*(1-lmb)\n",
    "        B=(1-lmb**2)\n",
    "        C=0.5*lmb*(1+lmb)\n",
    "        for i in range(M-1):\n",
    "            U[1:-1,i+1]=A*U[2:,i]+B*U[1:-1,i]+C*U[0:-2,i]\n",
    "            U[0,i+1]=0\n",
    "            U[-1,i+1]=0\n",
    "    else:\n",
    "        print('Unknown integration scheme')\t\n",
    "        U=0\n",
    "    return(U,x,t)\n"
   ]
  },
  {
   "cell_type": "code",
   "execution_count": 2,
   "metadata": {},
   "outputs": [],
   "source": [
    "a=1\n",
    "\n",
    "lmb=0.25\n",
    "L=120\n",
    "N=501\n",
    "x=np.linspace(0.,L,N+2)\n",
    "tmax=100\n",
    "\n",
    "U0_carre=Create_Init(x,4,5,1)\n",
    "a_cos=0\n",
    "b_cos=10\n",
    "U0_cos=g(x,a_cos,b_cos)\n",
    "\n",
    "U_up_carre=integration_adv(U0_carre,a,x,tmax,lmb,'Upwind')\n",
    "U_down_carre=integration_adv(U0_carre,a,x,tmax,lmb,'Downwind')\n",
    "U_lw_carre=integration_adv(U0_carre,a,x,tmax,lmb,'Lax-Wendroff')\n",
    "\n",
    "U_up_cos=integration_adv(U0_cos,a,x,tmax,lmb,'Upwind')\n",
    "U_down_cos=integration_adv(U0_cos,a,x,tmax,lmb,'Downwind')\n",
    "U_lw_cos=integration_adv(U0_cos,a,x,tmax,lmb,'Lax-Wendroff')\n"
   ]
  },
  {
   "cell_type": "code",
   "execution_count": 3,
   "metadata": {},
   "outputs": [
    {
     "name": "stdout",
     "output_type": "stream",
     "text": [
      "(503, 1674)\n",
      "1674\n"
     ]
    },
    {
     "data": {
      "application/vnd.jupyter.widget-view+json": {
       "model_id": "8128f0fc141d4200a4ca6d8d68d38f09",
       "version_major": 2,
       "version_minor": 0
      },
      "text/plain": [
       "Canvas(toolbar=Toolbar(toolitems=[('Home', 'Reset original view', 'home', 'home'), ('Back', 'Back to previous …"
      ]
     },
     "metadata": {},
     "output_type": "display_data"
    }
   ],
   "source": [
    "t=U_up_carre[2]\n",
    "M=t.shape[0]\n",
    "Mspan=[0,0.25,0.5,0.75,0.99]\n",
    "\n",
    "print(U_up_carre[0].shape)\n",
    "print(M)\n",
    "fig,ax=plt.subplots(2,5,figsize=(15,7),sharey='row')\n",
    "for i in range(len(Mspan)):\n",
    "    n=int(np.floor(M*Mspan[i]))\n",
    "    center_carre=4.5+a*t[n]\n",
    "    center_cos=(b_cos+a_cos)/2+a*t[n]\n",
    "    ax[0,i].plot(x,U_up_carre[0][:,n],label='Upwind',linewidth=2.)\n",
    "    ax[0,i].plot(x,U_down_carre[0][:,n],label='Downwind',linewidth=2.)\n",
    "    ax[0,i].plot(x,U_lw_carre[0][:,n],label='Lax-Wendroff',linewidth=2.)\n",
    "    ax[0,i].plot(x,Create_Init(x-a*t[n],4,5,1),label='Analytique')\n",
    "    #ax[0,i].set_xlabel('x')\n",
    "    ax[0,i].set_ylabel('y')\n",
    "    ax[0,i].set_ylim((-0.5,1.5))\n",
    "    ax[0,i].set_xlim((center_carre-4,center_carre+4))\n",
    "    ax[0,i].set_title('Time=%.2f, lambda=%.1f'%(t[n],lmb))\n",
    "    ax[0,i].legend(loc='best',fontsize='small')\n",
    "    ax[1,i].plot(x,U_up_cos[0][:,n],label='Upwind',linewidth=2.)\n",
    "    ax[1,i].plot(x,U_down_cos[0][:,n],label='Downwind',linewidth=2.)\n",
    "    ax[1,i].plot(x,U_lw_cos[0][:,n],label='Lax-Wendroff',linewidth=2.)\n",
    "    ax[1,i].plot(x,g(x-a*t[n],0,10),label='Analytique')\n",
    "    ax[1,i].set_xlabel('x')\n",
    "    ax[1,i].set_ylabel('y')\n",
    "    ax[1,i].set_ylim((-0.5,1.5))\n",
    "    ax[1,i].set_xlim((center_cos-4,center_cos+4))\n",
    "    ax[1,i].set_title('Time=%.2f, lambda=%.1f'%(t[n],lmb))\n",
    "    ax[1,i].legend(loc='best',fontsize='small')\n",
    "    "
   ]
  },
  {
   "cell_type": "markdown",
   "metadata": {},
   "source": [
    "Condition CFL\n",
    "--------\n",
    "Le domaine de dépendence numérique du schéma doit contenir le domaine de dépendance du problème initial. \n",
    "Pour les trois schémas, la condition est la même $\\lambda \\leq 1$\n",
    "\n",
    "Stabilité\n",
    "----\n",
    "Pour comprende le comportement des différents schémas numériques, il faut effectuer une analyse de stabilité. On trouve alors\n",
    "\n",
    "${\\large u_{i,j+1}=\\kappa \\, u_{i,j}=|\\kappa | e^{I\\theta_{n}}}$, où ${\\large \\theta_{n}=\\frac{\\Im(\\kappa)}{\\Re(\\kappa)}}$. On appelle $\\kappa$ le facteur d'amplification\n",
    "\n",
    "Considérons une solution de la forme:\n",
    "\n",
    "${\\large u(x,t)=Ue^{I(rx-\\omega t)}}$\n",
    "\n",
    "En remplacant dans l'équation d'advection\n",
    "\n",
    "${\\large U(-I\\omega) e^{I(rx-\\omega t)}+a (Irx)e^{I(rx-\\omega t)}}=0$\n",
    "\n",
    "${\\large \\Rightarrow \\omega=r a}$ (relation de dispersion). Ce système est non dispersif.\n",
    "\n",
    "On veut maintenant connaitre l'évolution \"vraie\" à chaque pas de temps de ma solution analytique.\n",
    "\n",
    "${\\large u(x,t+k)=Ue^{I(rx-\\omega (t+k)}=e^{-I\\omega k}Ue^{I(rx-\\omega t)}=\\kappa_{a} Ue^{I(rx-\\omega t)}}$\n",
    "\n",
    "avec ${\\large \\kappa_{a}=e^{-I\\omega k}=e^{-I ark}=e^{-I \\lambda r h}=e^{I\\theta_{a}}}$. \n",
    "\n",
    "Cette expression est à mettre en parallèle avec la première équation pour la solution numérique."
   ]
  },
  {
   "cell_type": "markdown",
   "metadata": {},
   "source": [
    "Pour les schémas upwind et downwind:\n",
    "\n",
    "${\\large \\kappa =1-\\lambda +cos(rh)-\\lambda sin(rh) I}$\n",
    "\n",
    "Pour le schéma Lax-Wendroff:\n",
    "\n",
    "${\\large \\kappa= 1-2 \\lambda^2 sin^{2}(\\frac{rh}{2})-\\lambda sin(rh) I}$ "
   ]
  },
  {
   "cell_type": "code",
   "execution_count": 4,
   "metadata": {},
   "outputs": [
    {
     "data": {
      "application/vnd.jupyter.widget-view+json": {
       "model_id": "54ac4619b69646a1a9558123ecf8613d",
       "version_major": 2,
       "version_minor": 0
      },
      "text/plain": [
       "Canvas(toolbar=Toolbar(toolitems=[('Home', 'Reset original view', 'home', 'home'), ('Back', 'Back to previous …"
      ]
     },
     "metadata": {},
     "output_type": "display_data"
    },
    {
     "data": {
      "text/plain": [
       "<matplotlib.legend.Legend at 0x7feed7568f10>"
      ]
     },
     "execution_count": 4,
     "metadata": {},
     "output_type": "execute_result"
    }
   ],
   "source": [
    "#Upwind\n",
    "ko=np.linspace(0.01,np.pi-0.001,100)\n",
    "\n",
    "lmb=[0.25,0.5,0.75,1.,1.0]\n",
    "fig,ax=plt.subplots(1,2,figsize=(15,5),subplot_kw=dict(polar=True))\n",
    "for i in range(5):\n",
    "    ampl_R=1-lmb[i]+lmb[i]*np.cos(ko)\n",
    "    ampl_I=-lmb[i]*np.sin(ko)\n",
    "    ampl=1-lmb[i]+lmb[i]*np.cos(ko)+(1j)*(-lmb[i]*np.sin(ko))\n",
    "    ratio=np.arctan(ampl_I/ampl_R)/(-lmb[i]*ko)\n",
    "    ratio=np.arctan2(np.imag(ampl),np.real(ampl))/(-lmb[i]*ko)\n",
    "    ax[0].plot(ko,np.sqrt(ampl_R**2+ampl_I**2),label='lambda=%.2f'%(lmb[i]))\n",
    "    ax[1].plot(ko,np.abs(ratio),label='lambda=%.2f'%(lmb[i]))\n",
    "    \n",
    "ax[0].set_rmax(2)\n",
    "ax[0].set_rgrids([0.0,0.5, 1, 1.5],labels=['0.0','0.5', '1', '1.5'],fontsize=20)\n",
    "ax[0].set_frame_on(False)\n",
    "ax[0].set_thetamax(180)\n",
    "ax[0].set_thetagrids(angles=[0,180],labels=['rh=0','rh=$\\pi$'],fontsize=15)\n",
    "ax[0].legend()\n",
    "ax[1].set_rmax(2)\n",
    "ax[1].set_rgrids([0.0,0.5, 1, 1.5],labels=['0.0','0.5', '1', '1.5'],fontsize=20)\n",
    "ax[1].set_frame_on(False)\n",
    "ax[1].set_thetamax(180)\n",
    "ax[1].set_thetagrids(angles=[0,180],labels=['rh=0','rh=$\\pi$'],fontsize=15)\n",
    "ax[1].legend()\n"
   ]
  },
  {
   "cell_type": "code",
   "execution_count": 5,
   "metadata": {},
   "outputs": [
    {
     "data": {
      "application/vnd.jupyter.widget-view+json": {
       "model_id": "ace925382d4e49e2a9885cb8afe00275",
       "version_major": 2,
       "version_minor": 0
      },
      "text/plain": [
       "Canvas(toolbar=Toolbar(toolitems=[('Home', 'Reset original view', 'home', 'home'), ('Back', 'Back to previous …"
      ]
     },
     "metadata": {},
     "output_type": "display_data"
    }
   ],
   "source": [
    "ko=np.linspace(0.01,np.pi-0.001,100)\n",
    "\n",
    "lmb=[0.25,0.5,0.75,1.,1.25]\n",
    "fig,ax=plt.subplots(1,5,figsize=(15,5))\n",
    "for i in range(5):\n",
    "    ampl_R=1-lmb[i]+lmb[i]*np.cos(ko)\n",
    "    ampl_I=-lmb[i]*np.sin(ko)\n",
    "    ampl=(1-lmb[i]+lmb[i]*np.cos(ko))+(1j)*(-lmb[i]*np.sin(ko))\n",
    "    ratio0=np.arctan(ampl_I/ampl_R)/(-lmb[i]*ko)\n",
    "    ratio1=np.arctan2(np.imag(ampl),np.real(ampl))/(-lmb[i]*ko)\n",
    "    ax[0].plot(ko,np.sqrt(ampl_R**2+ampl_I**2),label='lambda=%.2f'%(lmb[i]))\n",
    "    ax[1].plot(ko,np.real(ampl),'o',label='lambda=%.2f'%(lmb[i]))\n",
    "    ax[1].plot(ko,ampl_R,label='lambda=%.2f'%(lmb[i]))\n",
    "    ax[1].set_xticks((0, np.pi/2, np.pi),minor=False)\n",
    "    ax[1].set_xticklabels((\"0\", r\"$\\pi/2$\", r\"$\\pi$\"), fontdict=None, minor=False)\n",
    "    ax[2].plot(ko,np.imag(ampl),'o',label='lambda=%.2f'%(lmb[i]))\n",
    "    ax[2].plot(ko,ampl_I,label='lambda=%.2f'%(lmb[i]))\n",
    "    ax[2].set_xticks((0, np.pi/2, np.pi),minor=False)\n",
    "    ax[2].set_xticklabels((\"0\", r\"$\\pi/2$\", r\"$\\pi$\"), fontdict=None, minor=False)\n",
    "    ax[3].plot(ko,((np.abs(1/np.real(ampl)))),label='lambda=%.2f'%(lmb[i]))\n",
    "    #ax[3].plot(ko,np.arctan(np.imag(ampl)),label='lambda=%.2f'%(lmb[i]))\n",
    "    ax[3].set_xticks((0, np.pi/2, np.pi),minor=False)\n",
    "    ax[3].set_xticklabels((\"0\", r\"$\\pi/2$\", r\"$\\pi$\"), fontdict=None, minor=False)\n",
    "    ax[3].set_ylim((-1,10))\n",
    "    ax[3].legend()\n",
    "    ax[4].plot(ko,ratio1,label='lambda=%.2f'%(lmb[i]))\n",
    "    ax[4].set_xticks((0, np.pi/2, np.pi),minor=False)\n",
    "    ax[4].set_xticklabels((\"0\", r\"$\\pi/2$\", r\"$\\pi$\"), fontdict=None, minor=False)\n",
    "    ax[4].legend()\n",
    "    \n",
    "    "
   ]
  },
  {
   "cell_type": "code",
   "execution_count": 6,
   "metadata": {},
   "outputs": [
    {
     "data": {
      "application/vnd.jupyter.widget-view+json": {
       "model_id": "a3f415591fce45e3b0e69d7d5bc2f20a",
       "version_major": 2,
       "version_minor": 0
      },
      "text/plain": [
       "Canvas(toolbar=Toolbar(toolitems=[('Home', 'Reset original view', 'home', 'home'), ('Back', 'Back to previous …"
      ]
     },
     "metadata": {},
     "output_type": "display_data"
    },
    {
     "data": {
      "text/plain": [
       "<matplotlib.legend.Legend at 0x7feed5a1bf70>"
      ]
     },
     "execution_count": 6,
     "metadata": {},
     "output_type": "execute_result"
    }
   ],
   "source": [
    "#Leapfrog\n",
    "ko=np.linspace(0.01,np.pi-0.001,100)\n",
    "\n",
    "lmb=[0.25,0.5,0.75,0.9]\n",
    "fig,ax=plt.subplots(1,2,figsize=(15,5),subplot_kw=dict(polar=True))\n",
    "for i in range(4):\n",
    "    ampl_R=1-lmb[i]+lmb[i]*np.cos(ko)\n",
    "    ampl_I=-lmb[i]*np.sin(ko)\n",
    "    ampl=(-1j*lmb[i]*np.sin(ko)+np.sqrt(1-(lmb[i]*np.sin(ko))**2))\n",
    "    ratio=np.arctan2(np.imag(ampl),np.real(ampl))/(-lmb[i]*ko)\n",
    "    ax[0].plot(ko,np.abs(ampl),label='lambda=%.2f'%(lmb[i]))\n",
    "    ax[1].plot(ko,ratio,label='lambda=%.2f'%(lmb[i]))\n",
    "    \n",
    "ax[0].set_rmax(2)\n",
    "ax[0].set_rgrids([0.0,0.5, 1, 1.5],labels=['0.0','0.5', '1', '1.5'],fontsize=20)\n",
    "ax[0].set_frame_on(False)\n",
    "ax[0].set_thetamax(180)\n",
    "ax[0].set_thetagrids(angles=[0,180],labels=['rh=0','rh=$\\pi$'],fontsize=15)\n",
    "ax[0].legend()\n",
    "ax[1].set_rmax(2)\n",
    "ax[1].set_rgrids([0.0,0.5, 1, 1.5],labels=['0.0','0.5', '1', '1.5'],fontsize=20)\n",
    "ax[1].set_frame_on(False)\n",
    "ax[1].set_thetamax(180)\n",
    "ax[1].set_thetagrids(angles=[0,180],labels=['rh=0','rh=$\\pi$'],fontsize=15)\n",
    "ax[1].legend()\n",
    "\n"
   ]
  },
  {
   "cell_type": "code",
   "execution_count": 7,
   "metadata": {},
   "outputs": [
    {
     "data": {
      "application/vnd.jupyter.widget-view+json": {
       "model_id": "cd5370c9f7f9479e8b7acdee68836c04",
       "version_major": 2,
       "version_minor": 0
      },
      "text/plain": [
       "Canvas(toolbar=Toolbar(toolitems=[('Home', 'Reset original view', 'home', 'home'), ('Back', 'Back to previous …"
      ]
     },
     "metadata": {},
     "output_type": "display_data"
    }
   ],
   "source": [
    "ko=np.linspace(0.01,np.pi-0.001,100)\n",
    "\n",
    "lmb=[0.25,0.5,0.75,1.]\n",
    "fig,ax=plt.subplots(1,5,figsize=(15,5))\n",
    "for i in range(4):\n",
    "    ampl=(-1j*lmb[i]*np.sin(ko)+np.sqrt(1-(lmb[i]*np.sin(ko))**2))\n",
    "    ratio1=(np.arctan2(np.imag(ampl),np.real(ampl))/(-lmb[i]*ko))\n",
    "    ax[0].plot(ko,np.sqrt(ampl_R**2+ampl_I**2),label='lambda=%.2f'%(lmb[i]))\n",
    "    ax[1].plot(ko,np.real(ampl),'o',label='lambda=%.2f'%(lmb[i]))\n",
    "    ax[1].plot(ko,ampl_R,label='lambda=%.2f'%(lmb[i]))\n",
    "    ax[2].plot(ko,np.imag(ampl),'o',label='lambda=%.2f'%(lmb[i]))\n",
    "    ax[2].plot(ko,ampl_I,label='lambda=%.2f'%(lmb[i]))\n",
    "    ax[3].plot(ko,(np.arctan(np.abs(1/np.real(ampl)))),label='lambda=%.2f'%(lmb[i]))\n",
    "    ax[3].plot(ko,np.arctan(np.imag(ampl)),label='lambda=%.2f'%(lmb[i]))\n",
    "    ax[4].plot(ko,ratio1,label='lambda=%.2f'%(lmb[i]))\n",
    "    ax[4].legend()\n",
    "    \n",
    "    "
   ]
  },
  {
   "cell_type": "markdown",
   "metadata": {},
   "source": [
    "# Leapfrog pour l'advection\n",
    "\n",
    "Un schéma leapfrog pour résoudre l'équation d'advection est  $u_{i,j+1}=u_{i,j-1}-\\lambda (u_{i+1,j}-u_{i-1,j}).$"
   ]
  },
  {
   "cell_type": "code",
   "execution_count": 8,
   "metadata": {},
   "outputs": [],
   "source": [
    "\n",
    "import numpy as np\n",
    "import matplotlib.pyplot as plt\n",
    "\n",
    "\n",
    "def Create_Init(x,x1,x2,yy):\n",
    "    y=np.zeros(np.size(x))\n",
    "    for i in range(np.size(x)):\n",
    "        if x[i]>x1 and x[i]<x2:\n",
    "            y[i]=yy\n",
    "    return(y)\n",
    "def f(y,a,b):\n",
    "    k=y.size\n",
    "    l=b-a\n",
    "    h=np.zeros(k)\n",
    "    for p in range(k):\n",
    "        if y[p]>=(b+a)/2-(b-a)/4 and y[p]<=(b+a)/2+(b-a)/4:\n",
    "            h[p]=0.5*(1.-np.cos(2.*np.pi*((y[p]-(b+a)/2)/l)))\n",
    "            h[p]=(1+np.cos(2.*np.pi*((y[p]-(b+a)/2)/(l/2))))*0.5\n",
    "    return(h)\n",
    "\n",
    "\n",
    "def Leapfrog_adv(U0,a,x,tmax,lmb):\n",
    "    h=np.abs(x[1]-x[0])\n",
    "    k=lmb*h/(abs(a))\n",
    "    M=int(np.round(tmax/k))+1\n",
    "    t=np.linspace(0.,tmax,M)\n",
    "    k=t[1]-t[0]\n",
    "    lmb=np.abs(a)*k/h\n",
    "    U=np.zeros((np.shape(x)[0],np.shape(t)[0]))\n",
    "    U[:,0]=U0\n",
    "    for i in range(M-1):\n",
    "        if i==0:\n",
    "            U[1:-1,i+1]=(1-lmb)*U[1:-1,i]+lmb*U[0:-2,i]\n",
    "            U[0,i+1]=0\n",
    "            U[-1,i+1]=0\n",
    "        else:\n",
    "            U[1:-1,i+1]=U[1:-1,i-1]-lmb*(U[2:,i]-U[0:-2,i])\n",
    "            U[0,i+1]=0\n",
    "            U[-1,i+1]=0\n",
    "    return(U,x,t)\n",
    "\n",
    "\n",
    "\n",
    "def integration_adv(U0,a,x,T,lmb,int_mode):\n",
    "    h=np.abs(x[1]-x[0])\n",
    "    k=lmb*h/(abs(a))\n",
    "    M=int(np.round(tmax/k))+1\n",
    "    t=np.linspace(0.,tmax,M)\n",
    "    k=t[1]-t[0]\n",
    "    lmb=np.abs(a)*k/h\n",
    "    U=np.zeros((np.shape(x)[0],np.shape(t)[0]))\n",
    "    U[:,0]=U0\n",
    "    #Upwind\n",
    "    if int_mode=='Upwind':\n",
    "        for i in range(M-1):\n",
    "            U[1:-1,i+1]=(1-lmb)*U[1:-1,i]+lmb*U[0:-2,i]\n",
    "            U[0,i+1]=0\n",
    "            U[-1,i+1]=0\n",
    "    elif int_mode=='Downwind':\n",
    "        for i in range(M-1):\n",
    "            U[1:-1,i+1]=(1+lmb)*U[1:-1,i]-lmb*U[2:,i]\n",
    "            U[0,i+1]=0\n",
    "            U[-1,i+1]=0\n",
    "    elif int_mode=='Lax-Wendroff':\n",
    "        A=-(1/2)*lmb*(1-lmb)\n",
    "        B=(1-lmb**2)\n",
    "        C=0.5*lmb*(1+lmb)\n",
    "        for i in range(M-1):\n",
    "            U[1:-1,i+1]=A*U[2:,i]+B*U[1:-1,i]+C*U[0:-2,i]\n",
    "            U[0,i+1]=0\n",
    "            U[-1,i+1]=0\n",
    "    else:\n",
    "        print('Unknown integration scheme')\t\n",
    "        U=0\n",
    "    return(U,x,t)\n"
   ]
  },
  {
   "cell_type": "code",
   "execution_count": 11,
   "metadata": {},
   "outputs": [
    {
     "name": "stderr",
     "output_type": "stream",
     "text": [
      "<ipython-input-8-b6e45663c444>:61: RuntimeWarning: overflow encountered in multiply\n",
      "  U[1:-1,i+1]=(1+lmb)*U[1:-1,i]-lmb*U[2:,i]\n"
     ]
    }
   ],
   "source": [
    "a=1\n",
    "\n",
    "lmb=0.75\n",
    "L=150\n",
    "N=1001\n",
    "x=np.linspace(0.,L,N+2)\n",
    "tmax=100\n",
    "\n",
    "U0_carre=Create_Init(x,4,5,1)\n",
    "a_cos=0\n",
    "b_cos=20\n",
    "U0_cos=f(x,a_cos,b_cos)\n",
    "\n",
    "U_up_carre=integration_adv(U0_carre,a,x,tmax,lmb,'Upwind')\n",
    "U_down_carre=integration_adv(U0_carre,a,x,tmax,lmb,'Downwind')\n",
    "U_lw_carre=integration_adv(U0_carre,a,x,tmax,lmb,'Lax-Wendroff')\n",
    "U_lp_carre=Leapfrog_adv(U0_carre,a,x,tmax,lmb)\n",
    "\n",
    "U_up_cos=integration_adv(U0_cos,a,x,tmax,lmb,'Upwind')\n",
    "U_down_cos=integration_adv(U0_cos,a,x,tmax,lmb,'Downwind')\n",
    "U_lw_cos=integration_adv(U0_cos,a,x,tmax,lmb,'Lax-Wendroff')\n",
    "U_lp_cos=Leapfrog_adv(U0_cos,a,x,tmax,lmb)\n"
   ]
  },
  {
   "cell_type": "code",
   "execution_count": 12,
   "metadata": {},
   "outputs": [
    {
     "data": {
      "application/vnd.jupyter.widget-view+json": {
       "model_id": "61c473bf526b49c180564b0485f0d95a",
       "version_major": 2,
       "version_minor": 0
      },
      "text/plain": [
       "Canvas(toolbar=Toolbar(toolitems=[('Home', 'Reset original view', 'home', 'home'), ('Back', 'Back to previous …"
      ]
     },
     "metadata": {},
     "output_type": "display_data"
    }
   ],
   "source": [
    "t=U_up_carre[2]\n",
    "M=t.shape[0]\n",
    "Mspan=[0,0.25,0.5,0.75,0.99]\n",
    "\n",
    "\n",
    "\n",
    "fig,ax=plt.subplots(2,5,figsize=(15,7),sharey='row')\n",
    "for i in range(len(Mspan)):\n",
    "    n=int(np.floor(M*Mspan[i]))\n",
    "    center_carre=4.5+a*t[n]\n",
    "    center_cos=(b_cos+a_cos)/2+a*t[n]\n",
    "    ax[0,i].plot(x,U_up_carre[0][:,n],label='Upwind',linewidth=2.)\n",
    "    ax[0,i].plot(x,U_down_carre[0][:,n],label='Downwind',linewidth=2.)\n",
    "    ax[0,i].plot(x,U_lw_carre[0][:,n],label='Lax-Wendroff',linewidth=2.)\n",
    "    ax[0,i].plot(x,U_lp_carre[0][:,n],label='Lax-Wendroff',linewidth=2.)\n",
    "    ax[0,i].plot(x,Create_Init(x-a*t[n],4,5,1),label='Analytique')\n",
    "    #ax[0,i].set_xlabel('x')\n",
    "    ax[0,i].set_ylabel('y')\n",
    "    ax[0,i].set_ylim((-0.5,1.5))\n",
    "    ax[0,i].set_xlim((center_carre-4,center_carre+4))\n",
    "    ax[0,i].set_title('Time=%.2f, lambda=%.3f'%(t[n],lmb))\n",
    "    ax[0,i].legend(loc='best',fontsize='small')\n",
    "    ax[1,i].plot(x,U_up_cos[0][:,n],label='Upwind',linewidth=2.)\n",
    "    ax[1,i].plot(x,U_down_cos[0][:,n],label='Downwind',linewidth=2.)\n",
    "    ax[1,i].plot(x,U_lw_cos[0][:,n],label='Lax-Wendroff',linewidth=2.)\n",
    "    ax[1,i].plot(x,U_lp_cos[0][:,n],label='Leapfrog',linewidth=2.)\n",
    "    ax[1,i].plot(x,f(x-a*t[n],a_cos,b_cos),label='Analytique')\n",
    "    ax[1,i].set_xlabel('x')\n",
    "    ax[1,i].set_ylabel('y')\n",
    "    ax[1,i].set_ylim((-0.5,1.5))\n",
    "    ax[1,i].set_xlim((center_cos-(b_cos-a_cos)/4-4,center_cos+(b_cos-a_cos)/4+4))\n",
    "    ax[1,i].set_title('Time=%.2f, lambda=%.3f'%(t[n],lmb))\n",
    "    ax[1,i].legend(loc='best',fontsize='small')\n",
    "    \n",
    "    "
   ]
  },
  {
   "cell_type": "code",
   "execution_count": 13,
   "metadata": {},
   "outputs": [
    {
     "data": {
      "application/vnd.jupyter.widget-view+json": {
       "model_id": "865e79e3dbd043c8a6dd1f942413d16c",
       "version_major": 2,
       "version_minor": 0
      },
      "text/plain": [
       "Canvas(toolbar=Toolbar(toolitems=[('Home', 'Reset original view', 'home', 'home'), ('Back', 'Back to previous …"
      ]
     },
     "metadata": {},
     "output_type": "display_data"
    },
    {
     "data": {
      "text/plain": [
       "<matplotlib.legend.Legend at 0x7feeca0d59a0>"
      ]
     },
     "execution_count": 13,
     "metadata": {},
     "output_type": "execute_result"
    }
   ],
   "source": [
    "#Lax-Wendroff\n",
    "ko=np.linspace(0.01,np.pi-0.001,100)\n",
    "\n",
    "lmb=[0.25,0.5,0.75,1.]\n",
    "fig,ax=plt.subplots(1,2,figsize=(15,5),subplot_kw=dict(polar=True))\n",
    "for i in range(4):\n",
    "    ampl_R=1-lmb[i]**2+lmb[i]**2*np.cos(ko)\n",
    "    ampl_I=-lmb[i]*np.sin(ko)\n",
    "    ampl=1-lmb[i]**2+lmb[i]**2*np.cos(ko)+(1j)*(-lmb[i]*np.sin(ko))\n",
    "    ratio=np.arctan(ampl_I/ampl_R)/(-lmb[i]*ko)\n",
    "    ratio=np.arctan2(np.imag(ampl),np.real(ampl))/(-lmb[i]*ko)\n",
    "    ax[0].plot(ko,np.sqrt(ampl_R**2+ampl_I**2),label='lambda=%.2f'%(lmb[i]))\n",
    "    ax[1].plot(ko,np.abs(ratio),label='lambda=%.2f'%(lmb[i]))\n",
    "    \n",
    "ax[0].set_rmax(2)\n",
    "ax[0].set_rgrids([0.0,0.5, 1, 1.5],labels=['0.0','0.5', '1', '1.5'],fontsize=20)\n",
    "ax[0].set_frame_on(False)\n",
    "ax[0].set_thetamax(180)\n",
    "ax[0].set_thetagrids(angles=[0,180],labels=['rh=0','rh=$\\pi$'],fontsize=15)\n",
    "ax[0].legend()\n",
    "ax[1].set_rmax(2)\n",
    "ax[1].set_rgrids([0.0,0.5, 1, 1.5],labels=['0.0','0.5', '1', '1.5'],fontsize=20)\n",
    "ax[1].set_frame_on(False)\n",
    "ax[1].set_thetamax(180)\n",
    "ax[1].set_thetagrids(angles=[0,180],labels=['rh=0','rh=$\\pi$'],fontsize=15)\n",
    "ax[1].legend()\n",
    "\n"
   ]
  },
  {
   "cell_type": "markdown",
   "metadata": {},
   "source": [
    "# Advection radioactive\n",
    "\n",
    "Considérez l'équation $u_{t}+au_{x}+bu=0$, où $a,b$ sont des constantes positives, et $u(x,0)=g(x)$.\n",
    "\n",
    "$g(x)=\\begin{cases} \\frac{1}{2}(1-cos(2\\pi x)) \\, \\mbox{si } 0\\leq x \\leq 1,\\\\ 0 \\quad \\mbox{sinon} \\end{cases} $"
   ]
  },
  {
   "cell_type": "code",
   "execution_count": 12,
   "metadata": {},
   "outputs": [],
   "source": [
    "def g(y):\n",
    "    k=y.size\n",
    "    h=np.zeros(k)\n",
    "    for p in range(k):\n",
    "        if y[p]>=0. and y[p]<=1.:\n",
    "            h[p]=0.5*(1.-np.cos(2.*np.pi*y[p]))\n",
    "    return(h)\n",
    "\n",
    "\n",
    "\n",
    "def lw_adv_radio(U0,a,b,x,tmax,lmb):\n",
    "    h=np.abs(x[1]-x[0])\n",
    "    k=lmb*h/(abs(a))\n",
    "    M=int(np.round(tmax/k))+1\n",
    "    t=np.linspace(0.,tmax,M)\n",
    "    k=t[1]-t[0]\n",
    "    lmb=np.abs(a)*k/h\n",
    "    A=0.5*((1-b*k)*lmb**2-(1-b*k+(1/2)*b**2*k**2)*lmb)\n",
    "    B=1-b*k+(1/2)*b**2*k**2-(1/6)*b**3*k**3-(1-b*k)*lmb**2\n",
    "    C=0.5*((1-b*k)*lmb**2+(1-b*k+0.5*b**2*k**2)*lmb)\n",
    "    U=np.zeros((np.shape(x)[0],np.shape(t)[0]))\n",
    "    U[:,0]=U0\n",
    "    for i in range(M-1):\n",
    "        U[1:-1,i+1]=A*U[2:,i]+B*U[1:-1,i]+C*U[0:-2,i]\n",
    "        U[0,i+1]=0\n",
    "        U[-1,i+1]=0\n",
    "    return(U,x,t)\n",
    "\n",
    "\n",
    "\n",
    "   "
   ]
  },
  {
   "cell_type": "code",
   "execution_count": 13,
   "metadata": {},
   "outputs": [],
   "source": [
    "tmax=10.\n",
    "a=1.\n",
    "b=1./7.\n",
    "N=502\n",
    "xL=-2.\n",
    "xR=12.\n",
    "x=np.linspace(xL,xR,N+2)\n",
    "\n",
    "lmb=0.75\n",
    "\n",
    "U0=g(x)\n",
    "\n",
    "U_lw_radio=lw_adv_radio(U0,a,b,x,tmax,lmb)\n",
    "t=U_lw_radio[2]\n",
    "\n",
    "M=t.shape[0]\n",
    "Sol=np.zeros((N+2,M))\n",
    "for p in range(M):\n",
    "    Sol[:,p]=g(x-a*t[p])*np.exp(-b*t[p])\n",
    "    \n",
    " "
   ]
  },
  {
   "cell_type": "code",
   "execution_count": 14,
   "metadata": {},
   "outputs": [
    {
     "data": {
      "application/vnd.jupyter.widget-view+json": {
       "model_id": "0756c815c93649afb2f7ac53bb137fd8",
       "version_major": 2,
       "version_minor": 0
      },
      "text/plain": [
       "Canvas(toolbar=Toolbar(toolitems=[('Home', 'Reset original view', 'home', 'home'), ('Back', 'Back to previous …"
      ]
     },
     "metadata": {},
     "output_type": "display_data"
    }
   ],
   "source": [
    "Mspan=[0,0.25,0.5,0.75,0.99]\n",
    "fig,ax=plt.subplots(1,5,figsize=(15,7),sharey='row')\n",
    "for i in range(len(Mspan)):\n",
    "    n=int(np.floor(M*Mspan[i]))\n",
    "    center_carre=0+a*t[n]\n",
    "    center_cos=(b_cos+a_cos)/2+a*t[n]\n",
    "    ax[i].plot(x,U_lw_radio[0][:,n],label='Lax-Wendroff',linewidth=2.)\n",
    "    ax[i].plot(x,Sol[:,n],label='Analytique')\n",
    "    ax[i].set_ylabel('y')\n",
    "    ax[i].set_ylim((-0.5,1.5))\n",
    "    ax[i].set_xlim((center_carre-4,center_carre+4))\n",
    "    ax[i].set_title('Time=%.2f, lambda=%.3f'%(t[n],lmb))\n",
    "    ax[i].legend(loc='best',fontsize='small')"
   ]
  },
  {
   "cell_type": "code",
   "execution_count": null,
   "metadata": {},
   "outputs": [],
   "source": []
  }
 ],
 "metadata": {
  "kernelspec": {
   "display_name": "Python 3",
   "language": "python",
   "name": "python3"
  },
  "language_info": {
   "codemirror_mode": {
    "name": "ipython",
    "version": 3
   },
   "file_extension": ".py",
   "mimetype": "text/x-python",
   "name": "python",
   "nbconvert_exporter": "python",
   "pygments_lexer": "ipython3",
   "version": "3.8.5"
  }
 },
 "nbformat": 4,
 "nbformat_minor": 4
}
